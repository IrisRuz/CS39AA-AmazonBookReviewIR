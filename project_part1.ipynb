{
 "cells": [
  {
   "cell_type": "markdown",
   "id": "a2ddce52",
   "metadata": {
    "papermill": {
     "duration": 0.012611,
     "end_time": "2023-11-21T15:20:50.139974",
     "exception": false,
     "start_time": "2023-11-21T15:20:50.127363",
     "status": "completed"
    },
    "tags": []
   },
   "source": [
    "# Project Part 1\n",
    "\n",
    "[![Kaggle](https://kaggle.com/static/images/open-in-kaggle.svg)](https://www.kaggle.com/code/irisruz/notebookf684cedf1b/edit/run/151693647)\n"
   ]
  },
  {
   "cell_type": "markdown",
   "id": "6e7cdd57",
   "metadata": {
    "papermill": {
     "duration": 0.01185,
     "end_time": "2023-11-21T15:20:50.164020",
     "exception": false,
     "start_time": "2023-11-21T15:20:50.152170",
     "status": "completed"
    },
    "tags": []
   },
   "source": [
    "## 1. Introduction/Background\n",
    "\n",
    "In the digital commerce era, book reviews have become a crucial tool for readers to gauge the quality of a book before purchase.  This project seeks to explore the sentiment expressed in book reviews from a dataset obtained on Kaggle showing the title of the book, the review score, and the text review given.  Using machine learning techniques, I will demonstrate whether reviews reflect positive, neutral, or negative sentiments and explore how they compare with user ratings.  The goal is to develop a model that can determine whether a review is negative, positive or neutral.  "
   ]
  },
  {
   "cell_type": "markdown",
   "id": "3959d490",
   "metadata": {
    "papermill": {
     "duration": 0.023912,
     "end_time": "2023-11-21T15:20:50.200034",
     "exception": false,
     "start_time": "2023-11-21T15:20:50.176122",
     "status": "completed"
    },
    "tags": []
   },
   "source": [
    "## 2. Exploratory Data Analysis"
   ]
  },
  {
   "cell_type": "code",
   "execution_count": 1,
   "id": "4d62e392",
   "metadata": {
    "execution": {
     "iopub.execute_input": "2023-11-21T15:20:50.226682Z",
     "iopub.status.busy": "2023-11-21T15:20:50.226226Z",
     "iopub.status.idle": "2023-11-21T15:20:53.892709Z",
     "shell.execute_reply": "2023-11-21T15:20:53.891406Z"
    },
    "papermill": {
     "duration": 3.683795,
     "end_time": "2023-11-21T15:20:53.895786",
     "exception": false,
     "start_time": "2023-11-21T15:20:50.211991",
     "status": "completed"
    },
    "tags": []
   },
   "outputs": [],
   "source": [
    "# import all of the python modules/packages you'll need here\n",
    "import pandas as pd\n",
    "import numpy as np\n",
    "import nltk\n",
    "from nltk.corpus import stopwords\n",
    "from nltk.stem import WordNetLemmatizer\n",
    "\n",
    "from collections import Counter\n",
    "import string\n",
    "from textblob import TextBlob\n",
    "import matplotlib.pyplot as plt\n",
    "import seaborn as sns\n",
    "from sklearn.feature_extraction.text import CountVectorizer"
   ]
  },
  {
   "cell_type": "markdown",
   "id": "a664a14a",
   "metadata": {
    "papermill": {
     "duration": 0.011598,
     "end_time": "2023-11-21T15:20:53.919580",
     "exception": false,
     "start_time": "2023-11-21T15:20:53.907982",
     "status": "completed"
    },
    "tags": []
   },
   "source": [
    "> By loading and examining the size of the dataset I am using, I can understand the data's structure better.  "
   ]
  },
  {
   "cell_type": "code",
   "execution_count": 2,
   "id": "b9638806",
   "metadata": {
    "execution": {
     "iopub.execute_input": "2023-11-21T15:20:53.945472Z",
     "iopub.status.busy": "2023-11-21T15:20:53.944903Z",
     "iopub.status.idle": "2023-11-21T15:22:09.462703Z",
     "shell.execute_reply": "2023-11-21T15:22:09.461409Z"
    },
    "papermill": {
     "duration": 75.54802,
     "end_time": "2023-11-21T15:22:09.479521",
     "exception": false,
     "start_time": "2023-11-21T15:20:53.931501",
     "status": "completed"
    },
    "tags": []
   },
   "outputs": [
    {
     "name": "stdout",
     "output_type": "stream",
     "text": [
      "df.shape: (3000000, 10)\n"
     ]
    },
    {
     "data": {
      "text/html": [
       "<div>\n",
       "<style scoped>\n",
       "    .dataframe tbody tr th:only-of-type {\n",
       "        vertical-align: middle;\n",
       "    }\n",
       "\n",
       "    .dataframe tbody tr th {\n",
       "        vertical-align: top;\n",
       "    }\n",
       "\n",
       "    .dataframe thead th {\n",
       "        text-align: right;\n",
       "    }\n",
       "</style>\n",
       "<table border=\"1\" class=\"dataframe\">\n",
       "  <thead>\n",
       "    <tr style=\"text-align: right;\">\n",
       "      <th></th>\n",
       "      <th>Id</th>\n",
       "      <th>Title</th>\n",
       "      <th>Price</th>\n",
       "      <th>User_id</th>\n",
       "      <th>profileName</th>\n",
       "      <th>review/helpfulness</th>\n",
       "      <th>review/score</th>\n",
       "      <th>review/time</th>\n",
       "      <th>review/summary</th>\n",
       "      <th>review/text</th>\n",
       "    </tr>\n",
       "  </thead>\n",
       "  <tbody>\n",
       "    <tr>\n",
       "      <th>0</th>\n",
       "      <td>1882931173</td>\n",
       "      <td>Its Only Art If Its Well Hung!</td>\n",
       "      <td>NaN</td>\n",
       "      <td>AVCGYZL8FQQTD</td>\n",
       "      <td>Jim of Oz \"jim-of-oz\"</td>\n",
       "      <td>7/7</td>\n",
       "      <td>4.0</td>\n",
       "      <td>940636800</td>\n",
       "      <td>Nice collection of Julie Strain images</td>\n",
       "      <td>This is only for Julie Strain fans. It's a collection of her photos -- about 80 pages worth with a nice section of paintings by Olivia.If you're looking for heavy literary content, this isn't the place to find it -- there's only about 2...</td>\n",
       "    </tr>\n",
       "    <tr>\n",
       "      <th>1</th>\n",
       "      <td>0826414346</td>\n",
       "      <td>Dr. Seuss: American Icon</td>\n",
       "      <td>NaN</td>\n",
       "      <td>A30TK6U7DNS82R</td>\n",
       "      <td>Kevin Killian</td>\n",
       "      <td>10/10</td>\n",
       "      <td>5.0</td>\n",
       "      <td>1095724800</td>\n",
       "      <td>Really Enjoyed It</td>\n",
       "      <td>I don't care much for Dr. Seuss but after reading Philip Nel's book I changed my mind--that's a good testimonial to the power of Rel's writing and thinking. Rel plays Dr. Seuss the ultimate compliment of treating him as a serious poet a...</td>\n",
       "    </tr>\n",
       "    <tr>\n",
       "      <th>2</th>\n",
       "      <td>0826414346</td>\n",
       "      <td>Dr. Seuss: American Icon</td>\n",
       "      <td>NaN</td>\n",
       "      <td>A3UH4UZ4RSVO82</td>\n",
       "      <td>John Granger</td>\n",
       "      <td>10/11</td>\n",
       "      <td>5.0</td>\n",
       "      <td>1078790400</td>\n",
       "      <td>Essential for every personal and Public Library</td>\n",
       "      <td>If people become the books they read and if \"the child is father to the man,\" then Dr. Seuss (Theodor Seuss Geisel) is the most influential author, poet, and artist of modern times. For me, a daddy to a large family who learned to read ...</td>\n",
       "    </tr>\n",
       "    <tr>\n",
       "      <th>3</th>\n",
       "      <td>0826414346</td>\n",
       "      <td>Dr. Seuss: American Icon</td>\n",
       "      <td>NaN</td>\n",
       "      <td>A2MVUWT453QH61</td>\n",
       "      <td>Roy E. Perry \"amateur philosopher\"</td>\n",
       "      <td>7/7</td>\n",
       "      <td>4.0</td>\n",
       "      <td>1090713600</td>\n",
       "      <td>Phlip Nel gives silly Seuss a serious treatment</td>\n",
       "      <td>Theodore Seuss Geisel (1904-1991), aka &amp;quot;Dr. Seuss,&amp;quot; was one of the most influential writers and artists of the 20th century.In 1959, Rudolf Flesch wrote, &amp;quot;A hundred years from now, children and their parents will still ea...</td>\n",
       "    </tr>\n",
       "    <tr>\n",
       "      <th>4</th>\n",
       "      <td>0826414346</td>\n",
       "      <td>Dr. Seuss: American Icon</td>\n",
       "      <td>NaN</td>\n",
       "      <td>A22X4XUPKF66MR</td>\n",
       "      <td>D. H. Richards \"ninthwavestore\"</td>\n",
       "      <td>3/3</td>\n",
       "      <td>4.0</td>\n",
       "      <td>1107993600</td>\n",
       "      <td>Good academic overview</td>\n",
       "      <td>Philip Nel - Dr. Seuss: American IconThis is basically an academic overview of Seuss poetry, art, cartoons, and the problems with the commercialization of the Seuss name and works after his death. It is not, to any real extent, a biogra...</td>\n",
       "    </tr>\n",
       "  </tbody>\n",
       "</table>\n",
       "</div>"
      ],
      "text/plain": [
       "           Id                           Title  Price         User_id  \\\n",
       "0  1882931173  Its Only Art If Its Well Hung!    NaN   AVCGYZL8FQQTD   \n",
       "1  0826414346        Dr. Seuss: American Icon    NaN  A30TK6U7DNS82R   \n",
       "2  0826414346        Dr. Seuss: American Icon    NaN  A3UH4UZ4RSVO82   \n",
       "3  0826414346        Dr. Seuss: American Icon    NaN  A2MVUWT453QH61   \n",
       "4  0826414346        Dr. Seuss: American Icon    NaN  A22X4XUPKF66MR   \n",
       "\n",
       "                          profileName review/helpfulness  review/score  \\\n",
       "0               Jim of Oz \"jim-of-oz\"                7/7           4.0   \n",
       "1                       Kevin Killian              10/10           5.0   \n",
       "2                        John Granger              10/11           5.0   \n",
       "3  Roy E. Perry \"amateur philosopher\"                7/7           4.0   \n",
       "4     D. H. Richards \"ninthwavestore\"                3/3           4.0   \n",
       "\n",
       "   review/time                                   review/summary  \\\n",
       "0    940636800           Nice collection of Julie Strain images   \n",
       "1   1095724800                                Really Enjoyed It   \n",
       "2   1078790400  Essential for every personal and Public Library   \n",
       "3   1090713600  Phlip Nel gives silly Seuss a serious treatment   \n",
       "4   1107993600                           Good academic overview   \n",
       "\n",
       "                                                                                                                                                                                                                                       review/text  \n",
       "0  This is only for Julie Strain fans. It's a collection of her photos -- about 80 pages worth with a nice section of paintings by Olivia.If you're looking for heavy literary content, this isn't the place to find it -- there's only about 2...  \n",
       "1  I don't care much for Dr. Seuss but after reading Philip Nel's book I changed my mind--that's a good testimonial to the power of Rel's writing and thinking. Rel plays Dr. Seuss the ultimate compliment of treating him as a serious poet a...  \n",
       "2  If people become the books they read and if \"the child is father to the man,\" then Dr. Seuss (Theodor Seuss Geisel) is the most influential author, poet, and artist of modern times. For me, a daddy to a large family who learned to read ...  \n",
       "3  Theodore Seuss Geisel (1904-1991), aka &quot;Dr. Seuss,&quot; was one of the most influential writers and artists of the 20th century.In 1959, Rudolf Flesch wrote, &quot;A hundred years from now, children and their parents will still ea...  \n",
       "4  Philip Nel - Dr. Seuss: American IconThis is basically an academic overview of Seuss poetry, art, cartoons, and the problems with the commercialization of the Seuss name and works after his death. It is not, to any real extent, a biogra...  "
      ]
     },
     "execution_count": 2,
     "metadata": {},
     "output_type": "execute_result"
    }
   ],
   "source": [
    "dataset_path = '/kaggle/input/amazon-books-reviews/Books_rating.csv'\n",
    "df = pd.read_csv(dataset_path)\n",
    "print(f\"df.shape: {df.shape}\")\n",
    "pd.set_option(\"display.max_colwidth\", 240)\n",
    "df.head()"
   ]
  },
  {
   "cell_type": "markdown",
   "id": "dc7acae1",
   "metadata": {
    "papermill": {
     "duration": 0.013208,
     "end_time": "2023-11-21T15:22:09.506057",
     "exception": false,
     "start_time": "2023-11-21T15:22:09.492849",
     "status": "completed"
    },
    "tags": []
   },
   "source": [
    "> Next, I want to know how many reviews there are for each individual book "
   ]
  },
  {
   "cell_type": "code",
   "execution_count": 3,
   "id": "3181535b",
   "metadata": {
    "execution": {
     "iopub.execute_input": "2023-11-21T15:22:09.534809Z",
     "iopub.status.busy": "2023-11-21T15:22:09.533857Z",
     "iopub.status.idle": "2023-11-21T15:22:10.174015Z",
     "shell.execute_reply": "2023-11-21T15:22:10.172562Z"
    },
    "papermill": {
     "duration": 0.657906,
     "end_time": "2023-11-21T15:22:10.177331",
     "exception": false,
     "start_time": "2023-11-21T15:22:09.519425",
     "status": "completed"
    },
    "tags": []
   },
   "outputs": [
    {
     "data": {
      "text/plain": [
       "Title\n",
       "The Hobbit                                                                                                         22023\n",
       "Pride and Prejudice                                                                                                20371\n",
       "Atlas Shrugged                                                                                                     12513\n",
       "Wuthering Heights                                                                                                  10780\n",
       "The Giver                                                                                                           7644\n",
       "                                                                                                                   ...  \n",
       "Illuminatus! Part I: The Eye in the Pyramid (The eye in the Pyramid, The Golden Apple,Leviathan, Parts 1, 2, 3)        1\n",
       "Modern Chess Openings                                                                                                  1\n",
       "Child Abuse and Neglect: Cases and Materials (American Casebook Series)                                                1\n",
       "Reading Is Seeing                                                                                                      1\n",
       "Its Only Art If Its Well Hung!                                                                                         1\n",
       "Name: count, Length: 212403, dtype: int64"
      ]
     },
     "execution_count": 3,
     "metadata": {},
     "output_type": "execute_result"
    }
   ],
   "source": [
    "df['Title'].value_counts()"
   ]
  },
  {
   "cell_type": "markdown",
   "id": "22a3d3e5",
   "metadata": {
    "papermill": {
     "duration": 0.012424,
     "end_time": "2023-11-21T15:22:10.203644",
     "exception": false,
     "start_time": "2023-11-21T15:22:10.191220",
     "status": "completed"
    },
    "tags": []
   },
   "source": [
    "> Given the limited insights from books with only one review, I will filter out titles with fewer than 20 reviews.  "
   ]
  },
  {
   "cell_type": "code",
   "execution_count": 4,
   "id": "fd72a861",
   "metadata": {
    "execution": {
     "iopub.execute_input": "2023-11-21T15:22:10.231432Z",
     "iopub.status.busy": "2023-11-21T15:22:10.230626Z",
     "iopub.status.idle": "2023-11-21T15:22:11.952844Z",
     "shell.execute_reply": "2023-11-21T15:22:11.951536Z"
    },
    "papermill": {
     "duration": 1.739283,
     "end_time": "2023-11-21T15:22:11.955501",
     "exception": false,
     "start_time": "2023-11-21T15:22:10.216218",
     "status": "completed"
    },
    "tags": []
   },
   "outputs": [
    {
     "data": {
      "text/plain": [
       "2206794"
      ]
     },
     "execution_count": 4,
     "metadata": {},
     "output_type": "execute_result"
    }
   ],
   "source": [
    "df = df[df.groupby(\"Title\")['Title'].transform(\"size\") > 20]\n",
    "len(df)"
   ]
  },
  {
   "cell_type": "markdown",
   "id": "5e4968cf",
   "metadata": {
    "papermill": {
     "duration": 0.01224,
     "end_time": "2023-11-21T15:22:11.980516",
     "exception": false,
     "start_time": "2023-11-21T15:22:11.968276",
     "status": "completed"
    },
    "tags": []
   },
   "source": [
    "> Considering the dataset is still rather large I will narrow my analyses to the first 10,000 reviews"
   ]
  },
  {
   "cell_type": "code",
   "execution_count": 5,
   "id": "aa8614f8",
   "metadata": {
    "execution": {
     "iopub.execute_input": "2023-11-21T15:22:12.008228Z",
     "iopub.status.busy": "2023-11-21T15:22:12.007687Z",
     "iopub.status.idle": "2023-11-21T15:22:12.013667Z",
     "shell.execute_reply": "2023-11-21T15:22:12.012366Z"
    },
    "papermill": {
     "duration": 0.023299,
     "end_time": "2023-11-21T15:22:12.016459",
     "exception": false,
     "start_time": "2023-11-21T15:22:11.993160",
     "status": "completed"
    },
    "tags": []
   },
   "outputs": [],
   "source": [
    "df = df.head(10000)"
   ]
  },
  {
   "cell_type": "markdown",
   "id": "8b6c2802",
   "metadata": {
    "papermill": {
     "duration": 0.012428,
     "end_time": "2023-11-21T15:22:12.044464",
     "exception": false,
     "start_time": "2023-11-21T15:22:12.032036",
     "status": "completed"
    },
    "tags": []
   },
   "source": [
    "**Preprocessing**"
   ]
  },
  {
   "cell_type": "markdown",
   "id": "f1898fff",
   "metadata": {
    "papermill": {
     "duration": 0.012088,
     "end_time": "2023-11-21T15:22:12.069227",
     "exception": false,
     "start_time": "2023-11-21T15:22:12.057139",
     "status": "completed"
    },
    "tags": []
   },
   "source": [
    "> I will convert the 'review/text' column to a string if not in a string format already.  I will also remove any row that is missing a review"
   ]
  },
  {
   "cell_type": "code",
   "execution_count": 6,
   "id": "f73d9a96",
   "metadata": {
    "execution": {
     "iopub.execute_input": "2023-11-21T15:22:12.096628Z",
     "iopub.status.busy": "2023-11-21T15:22:12.096056Z",
     "iopub.status.idle": "2023-11-21T15:22:12.272939Z",
     "shell.execute_reply": "2023-11-21T15:22:12.271581Z"
    },
    "papermill": {
     "duration": 0.194228,
     "end_time": "2023-11-21T15:22:12.276020",
     "exception": false,
     "start_time": "2023-11-21T15:22:12.081792",
     "status": "completed"
    },
    "tags": []
   },
   "outputs": [
    {
     "data": {
      "text/plain": [
       "10000"
      ]
     },
     "execution_count": 6,
     "metadata": {},
     "output_type": "execute_result"
    }
   ],
   "source": [
    "df['review/text'] = df['review/text'].astype(str)\n",
    "df = df[~df['review/text'].isnull()]\n",
    "len(df)"
   ]
  },
  {
   "cell_type": "markdown",
   "id": "7c209d08",
   "metadata": {
    "papermill": {
     "duration": 0.013069,
     "end_time": "2023-11-21T15:22:12.302753",
     "exception": false,
     "start_time": "2023-11-21T15:22:12.289684",
     "status": "completed"
    },
    "tags": []
   },
   "source": [
    "> This section will clean the dataset by replacing all special characters with apostrophes"
   ]
  },
  {
   "cell_type": "code",
   "execution_count": 7,
   "id": "2e481fe0",
   "metadata": {
    "execution": {
     "iopub.execute_input": "2023-11-21T15:22:12.332204Z",
     "iopub.status.busy": "2023-11-21T15:22:12.331722Z",
     "iopub.status.idle": "2023-11-21T15:22:12.416643Z",
     "shell.execute_reply": "2023-11-21T15:22:12.415715Z"
    },
    "papermill": {
     "duration": 0.103818,
     "end_time": "2023-11-21T15:22:12.420160",
     "exception": false,
     "start_time": "2023-11-21T15:22:12.316342",
     "status": "completed"
    },
    "tags": []
   },
   "outputs": [],
   "source": [
    "def clean(txt):\n",
    "    txt = txt.str.replace(r\"\\(\", \"\")\n",
    "    txt = txt.str.replace(r'(<a).*(>).*()', '')\n",
    "    txt = txt.str.replace(r'(&amp)', '')\n",
    "    txt = txt.str.replace(r'(&gt)', '')\n",
    "    txt = txt.str.replace(r'(&lt)', '')\n",
    "    txt = txt.str.replace(r'(\\xa0)', ' ')  \n",
    "    return txt\n",
    "df['review/text'] = clean(df['review/text'])"
   ]
  },
  {
   "cell_type": "markdown",
   "id": "1e3ac43f",
   "metadata": {
    "papermill": {
     "duration": 0.012798,
     "end_time": "2023-11-21T15:22:12.447854",
     "exception": false,
     "start_time": "2023-11-21T15:22:12.435056",
     "status": "completed"
    },
    "tags": []
   },
   "source": [
    "> In this section, I will transform all reviews to lowercase to ensure consistency in word count, ensuring each word is counted only once.  "
   ]
  },
  {
   "cell_type": "code",
   "execution_count": 8,
   "id": "a8a83cb5",
   "metadata": {
    "execution": {
     "iopub.execute_input": "2023-11-21T15:22:12.545788Z",
     "iopub.status.busy": "2023-11-21T15:22:12.544880Z",
     "iopub.status.idle": "2023-11-21T15:22:12.928704Z",
     "shell.execute_reply": "2023-11-21T15:22:12.927866Z"
    },
    "papermill": {
     "duration": 0.400861,
     "end_time": "2023-11-21T15:22:12.930914",
     "exception": false,
     "start_time": "2023-11-21T15:22:12.530053",
     "status": "completed"
    },
    "tags": []
   },
   "outputs": [
    {
     "data": {
      "text/plain": [
       "14    i bought this book because i read some glowing praise on an online library site. unfortunately, i was deeply disappointed by page three. i always buy books in the hope and expectation of having an enjoyable read, not to criticise. howev...\n",
       "15    i have to admit, i am not one to write reviews on book. i do however like to read them. some of the reviews are great, some are cruel, but the reviews on this book were absolutlely hysterical. i read this book and after watching the war...\n",
       "16    this is a self-published book, and if you want to know why--read a few paragraphs! those 5 star reviews must have been written by ms. haddon's family and friends--or perhaps, by herself! i can't imagine anyone reading the whole thing--i...\n",
       "17    when i first read this the i was mezmerized at the style of writting. i soon became so hooked on this book that i wanted to fall on my knees and shut out the rest of the world. haddon delivers a portrayal of a woman that is hurt loney a...\n",
       "18    i read the review directly under mine and i have to say i laughed. how can someone write a honest review on a book they read only three pages of? that was funny but also sad that people are mean enough to keep others from an enjoyable r...\n",
       "Name: review1, dtype: object"
      ]
     },
     "execution_count": 8,
     "metadata": {},
     "output_type": "execute_result"
    }
   ],
   "source": [
    "df['review1'] = df['review/text'].apply(lambda x: \" \".join(x.lower() for x in x.split()))\n",
    "df['review1'].head()"
   ]
  },
  {
   "cell_type": "markdown",
   "id": "b5c86d7d",
   "metadata": {
    "papermill": {
     "duration": 0.012304,
     "end_time": "2023-11-21T15:22:12.956075",
     "exception": false,
     "start_time": "2023-11-21T15:22:12.943771",
     "status": "completed"
    },
    "tags": []
   },
   "source": [
    "> This section will strip all punctuation from the text to help in counting words only once as well"
   ]
  },
  {
   "cell_type": "code",
   "execution_count": 9,
   "id": "236c81f8",
   "metadata": {
    "execution": {
     "iopub.execute_input": "2023-11-21T15:22:12.985068Z",
     "iopub.status.busy": "2023-11-21T15:22:12.984367Z",
     "iopub.status.idle": "2023-11-21T15:22:13.390843Z",
     "shell.execute_reply": "2023-11-21T15:22:13.389570Z"
    },
    "papermill": {
     "duration": 0.424295,
     "end_time": "2023-11-21T15:22:13.393523",
     "exception": false,
     "start_time": "2023-11-21T15:22:12.969228",
     "status": "completed"
    },
    "tags": []
   },
   "outputs": [
    {
     "data": {
      "text/plain": [
       "14    i bought this book because i read some glowing praise on an online library site unfortunately i was deeply disappointed by page three i always buy books in the hope and expectation of having an enjoyable read not to criticise however th...\n",
       "15    i have to admit i am not one to write reviews on book i do however like to read them some of the reviews are great some are cruel but the reviews on this book were absolutlely hysterical i read this book and after watching the war of th...\n",
       "16    this is a selfpublished book and if you want to know whyread a few paragraphs those 5 star reviews must have been written by ms haddons family and friendsor perhaps by herself i cant imagine anyone reading the whole thingi spent an even...\n",
       "17    when i first read this the i was mezmerized at the style of writting i soon became so hooked on this book that i wanted to fall on my knees and shut out the rest of the world haddon delivers a portrayal of a woman that is hurt loney and...\n",
       "18    i read the review directly under mine and i have to say i laughed how can someone write a honest review on a book they read only three pages of that was funny but also sad that people are mean enough to keep others from an enjoyable rea...\n",
       "Name: review1, dtype: object"
      ]
     },
     "execution_count": 9,
     "metadata": {},
     "output_type": "execute_result"
    }
   ],
   "source": [
    "import re\n",
    "\n",
    "def remove_punctuation(text):\n",
    "    return re.sub(r'[^\\w\\s]', '', text)\n",
    "\n",
    "df['review1'] = df['review1'].apply(remove_punctuation)\n",
    "df['review1'].head()"
   ]
  },
  {
   "cell_type": "markdown",
   "id": "13f2a605",
   "metadata": {
    "papermill": {
     "duration": 0.013351,
     "end_time": "2023-11-21T15:22:13.420630",
     "exception": false,
     "start_time": "2023-11-21T15:22:13.407279",
     "status": "completed"
    },
    "tags": []
   },
   "source": [
    "> In this part, I will eliminate all stopwords from the reviews to focus on the most meaningful words"
   ]
  },
  {
   "cell_type": "code",
   "execution_count": 10,
   "id": "b131cef1",
   "metadata": {
    "execution": {
     "iopub.execute_input": "2023-11-21T15:22:13.451858Z",
     "iopub.status.busy": "2023-11-21T15:22:13.451088Z",
     "iopub.status.idle": "2023-11-21T15:22:16.657916Z",
     "shell.execute_reply": "2023-11-21T15:22:16.656491Z"
    },
    "papermill": {
     "duration": 3.225958,
     "end_time": "2023-11-21T15:22:16.660931",
     "exception": false,
     "start_time": "2023-11-21T15:22:13.434973",
     "status": "completed"
    },
    "tags": []
   },
   "outputs": [
    {
     "name": "stdout",
     "output_type": "stream",
     "text": [
      "[nltk_data] Downloading package stopwords to /usr/share/nltk_data...\n",
      "[nltk_data]   Package stopwords is already up-to-date!\n"
     ]
    },
    {
     "data": {
      "text/plain": [
       "14    bought book read glowing praise online library site unfortunately deeply disappointed page three always buy books hope expectation enjoyable read criticise however book urgent need good editing though quite possibly editing alone wouldn...\n",
       "15    admit one write reviews book however like read reviews great cruel reviews book absolutlely hysterical read book watching war words couldnt help jump good side book loved kept intersted bad side say typo featured back cover secret likin...\n",
       "16    selfpublished book want know whyread paragraphs 5 star reviews must written ms haddons family friendsor perhaps cant imagine anyone reading whole thingi spent evening book friend hysterics reading bits pieces one another definitely bad ...\n",
       "17                                             first read mezmerized style writting soon became hooked book wanted fall knees shut rest world haddon delivers portrayal woman hurt loney abused think wonderful job making reader feel like character\n",
       "18    read review directly mine say laughed someone write honest review book read three pages funny also sad people mean enough keep others enjoyable read loved book thought first chapter little long read whole book loved book afair heart rig...\n",
       "Name: review1, dtype: object"
      ]
     },
     "execution_count": 10,
     "metadata": {},
     "output_type": "execute_result"
    }
   ],
   "source": [
    "\n",
    "nltk.download('stopwords')\n",
    "\n",
    "stop = stopwords.words('english')\n",
    "df['review1'] = df['review1'].apply(lambda x: \" \".join(x for x in x.split() if x not in stop))\n",
    "df['review1'].head()"
   ]
  },
  {
   "cell_type": "markdown",
   "id": "1876ff14",
   "metadata": {
    "papermill": {
     "duration": 0.013417,
     "end_time": "2023-11-21T15:22:16.688190",
     "exception": false,
     "start_time": "2023-11-21T15:22:16.674773",
     "status": "completed"
    },
    "tags": []
   },
   "source": [
    "> This section will identify and then remove any words that appear only once in a review. "
   ]
  },
  {
   "cell_type": "code",
   "execution_count": 11,
   "id": "d4693b17",
   "metadata": {
    "execution": {
     "iopub.execute_input": "2023-11-21T15:22:16.718134Z",
     "iopub.status.busy": "2023-11-21T15:22:16.717643Z",
     "iopub.status.idle": "2023-11-21T15:22:17.139059Z",
     "shell.execute_reply": "2023-11-21T15:22:17.137795Z"
    },
    "papermill": {
     "duration": 0.440203,
     "end_time": "2023-11-21T15:22:17.142068",
     "exception": false,
     "start_time": "2023-11-21T15:22:16.701865",
     "status": "completed"
    },
    "tags": []
   },
   "outputs": [
    {
     "name": "stdout",
     "output_type": "stream",
     "text": [
      "['directionthis', 'humorousthis', 'beforehigh', 'shadowing', 'despising', 'duelquot', 'recommanded', 'sunquotmuch', 'talei', 'connectthedots', 'storymy', 'goldstarred', 'enchantedpowers', 'tragedyone', 'pleasently', 'dietake', 'epidemiologic', 'blackbrowed', 'onby', 'enjoyng', 'tybalts', 'soliliquies', 'marraige', 'evry', 'finethat']\n"
     ]
    }
   ],
   "source": [
    "freq = pd.Series(' '.join(df['review1']).split()).value_counts()\n",
    "less_freq = list(freq[freq ==1].index)\n",
    "first_25_words = less_freq[:25]\n",
    "print(first_25_words)"
   ]
  },
  {
   "cell_type": "code",
   "execution_count": 12,
   "id": "832c48a6",
   "metadata": {
    "execution": {
     "iopub.execute_input": "2023-11-21T15:22:17.172552Z",
     "iopub.status.busy": "2023-11-21T15:22:17.172000Z",
     "iopub.status.idle": "2023-11-21T15:30:52.490659Z",
     "shell.execute_reply": "2023-11-21T15:30:52.489252Z"
    },
    "papermill": {
     "duration": 515.337504,
     "end_time": "2023-11-21T15:30:52.493811",
     "exception": false,
     "start_time": "2023-11-21T15:22:17.156307",
     "status": "completed"
    },
    "tags": []
   },
   "outputs": [],
   "source": [
    "df['review1'] = df['review1'].apply(lambda x: \" \".join(x for x in x.split() if x not in less_freq))"
   ]
  },
  {
   "cell_type": "markdown",
   "id": "289b39ac",
   "metadata": {
    "papermill": {
     "duration": 0.013363,
     "end_time": "2023-11-21T15:30:52.521219",
     "exception": false,
     "start_time": "2023-11-21T15:30:52.507856",
     "status": "completed"
    },
    "tags": []
   },
   "source": [
    "**Data Analysis**"
   ]
  },
  {
   "cell_type": "markdown",
   "id": "bbe9494e",
   "metadata": {
    "papermill": {
     "duration": 0.015477,
     "end_time": "2023-11-21T15:30:52.550629",
     "exception": false,
     "start_time": "2023-11-21T15:30:52.535152",
     "status": "completed"
    },
    "tags": []
   },
   "source": [
    "> Here I will calculate the length of each review by character count and determine the word count by splitting the text into individual words. "
   ]
  },
  {
   "cell_type": "code",
   "execution_count": 13,
   "id": "d61b0c03",
   "metadata": {
    "execution": {
     "iopub.execute_input": "2023-11-21T15:30:52.580505Z",
     "iopub.status.busy": "2023-11-21T15:30:52.580083Z",
     "iopub.status.idle": "2023-11-21T15:30:52.703997Z",
     "shell.execute_reply": "2023-11-21T15:30:52.702950Z"
    },
    "papermill": {
     "duration": 0.142151,
     "end_time": "2023-11-21T15:30:52.706826",
     "exception": false,
     "start_time": "2023-11-21T15:30:52.564675",
     "status": "completed"
    },
    "tags": []
   },
   "outputs": [],
   "source": [
    "df['review_len'] = df['review/text'].astype(str).apply(len)\n",
    "df['word_count'] = df['review/text'].apply(lambda x: len(str(x).split()))"
   ]
  },
  {
   "cell_type": "markdown",
   "id": "97c4e6b8",
   "metadata": {
    "papermill": {
     "duration": 0.013397,
     "end_time": "2023-11-21T15:30:52.734258",
     "exception": false,
     "start_time": "2023-11-21T15:30:52.720861",
     "status": "completed"
    },
    "tags": []
   },
   "source": [
    "> This section of the analysis determines the sentiment of each review categorizing them as positive, neutral, or negative.  "
   ]
  },
  {
   "cell_type": "code",
   "execution_count": 14,
   "id": "fb6e6cca",
   "metadata": {
    "execution": {
     "iopub.execute_input": "2023-11-21T15:30:52.763588Z",
     "iopub.status.busy": "2023-11-21T15:30:52.763199Z",
     "iopub.status.idle": "2023-11-21T15:31:00.806816Z",
     "shell.execute_reply": "2023-11-21T15:31:00.805453Z"
    },
    "papermill": {
     "duration": 8.061292,
     "end_time": "2023-11-21T15:31:00.809220",
     "exception": false,
     "start_time": "2023-11-21T15:30:52.747928",
     "status": "completed"
    },
    "tags": []
   },
   "outputs": [
    {
     "data": {
      "text/html": [
       "<div>\n",
       "<style scoped>\n",
       "    .dataframe tbody tr th:only-of-type {\n",
       "        vertical-align: middle;\n",
       "    }\n",
       "\n",
       "    .dataframe tbody tr th {\n",
       "        vertical-align: top;\n",
       "    }\n",
       "\n",
       "    .dataframe thead th {\n",
       "        text-align: right;\n",
       "    }\n",
       "</style>\n",
       "<table border=\"1\" class=\"dataframe\">\n",
       "  <thead>\n",
       "    <tr style=\"text-align: right;\">\n",
       "      <th></th>\n",
       "      <th>Id</th>\n",
       "      <th>Title</th>\n",
       "      <th>Price</th>\n",
       "      <th>User_id</th>\n",
       "      <th>profileName</th>\n",
       "      <th>review/helpfulness</th>\n",
       "      <th>review/score</th>\n",
       "      <th>review/time</th>\n",
       "      <th>review/summary</th>\n",
       "      <th>review/text</th>\n",
       "      <th>review1</th>\n",
       "      <th>review_len</th>\n",
       "      <th>word_count</th>\n",
       "      <th>polarity</th>\n",
       "    </tr>\n",
       "  </thead>\n",
       "  <tbody>\n",
       "    <tr>\n",
       "      <th>14</th>\n",
       "      <td>0595344550</td>\n",
       "      <td>Whispers of the Wicked Saints</td>\n",
       "      <td>10.95</td>\n",
       "      <td>A3Q12RK71N74LB</td>\n",
       "      <td>Book Reader</td>\n",
       "      <td>7/11</td>\n",
       "      <td>1.0</td>\n",
       "      <td>1117065600</td>\n",
       "      <td>not good</td>\n",
       "      <td>I bought this book because I read some glowing praise on an online library site. Unfortunately, I was deeply disappointed by page three. I always buy books in the hope and expectation of having an enjoyable read, not to criticise. Howev...</td>\n",
       "      <td>bought book read glowing praise online library site unfortunately deeply disappointed page three always buy books hope expectation enjoyable read criticise however book urgent need good editing though quite possibly editing alone wouldn...</td>\n",
       "      <td>1025</td>\n",
       "      <td>176</td>\n",
       "      <td>0.025595</td>\n",
       "    </tr>\n",
       "    <tr>\n",
       "      <th>15</th>\n",
       "      <td>0595344550</td>\n",
       "      <td>Whispers of the Wicked Saints</td>\n",
       "      <td>10.95</td>\n",
       "      <td>A1E9M6APK30ZAU</td>\n",
       "      <td>V. Powell</td>\n",
       "      <td>1/2</td>\n",
       "      <td>4.0</td>\n",
       "      <td>1119571200</td>\n",
       "      <td>Here is my opinion</td>\n",
       "      <td>I have to admit, I am not one to write reviews on book. I do however like to read them. Some of the reviews are great, some are cruel, but the reviews on this book were absolutlely hysterical. I read this book and after watching the war...</td>\n",
       "      <td>admit one write reviews book however like read reviews great cruel reviews book absolutlely hysterical read book watching war words couldnt help jump good side book loved kept bad side say typo featured back cover secret liking book mak...</td>\n",
       "      <td>1201</td>\n",
       "      <td>239</td>\n",
       "      <td>-0.062500</td>\n",
       "    </tr>\n",
       "    <tr>\n",
       "      <th>16</th>\n",
       "      <td>0595344550</td>\n",
       "      <td>Whispers of the Wicked Saints</td>\n",
       "      <td>10.95</td>\n",
       "      <td>AUR0VA5H0C66C</td>\n",
       "      <td>LoveToRead \"Actually Read Books\"</td>\n",
       "      <td>1/2</td>\n",
       "      <td>1.0</td>\n",
       "      <td>1119225600</td>\n",
       "      <td>Buyer beware</td>\n",
       "      <td>This is a self-published book, and if you want to know why--read a few paragraphs! Those 5 star reviews must have been written by Ms. Haddon's family and friends--or perhaps, by herself! I can't imagine anyone reading the whole thing--I...</td>\n",
       "      <td>selfpublished book want know paragraphs 5 star reviews must written ms haddons family perhaps cant imagine anyone reading whole spent evening book friend reading bits pieces one another definitely bad enough entered kind worst book cont...</td>\n",
       "      <td>724</td>\n",
       "      <td>137</td>\n",
       "      <td>0.030000</td>\n",
       "    </tr>\n",
       "    <tr>\n",
       "      <th>17</th>\n",
       "      <td>0595344550</td>\n",
       "      <td>Whispers of the Wicked Saints</td>\n",
       "      <td>10.95</td>\n",
       "      <td>A1YLDZ3VHR6QPZ</td>\n",
       "      <td>Clara</td>\n",
       "      <td>2/4</td>\n",
       "      <td>5.0</td>\n",
       "      <td>1115942400</td>\n",
       "      <td>Fall on your knee's</td>\n",
       "      <td>When I first read this the I was mezmerized at the style of writting. I soon became so hooked on this book that I wanted to fall on my knees and shut out the rest of the world. Haddon delivers a portrayal of a woman that is hurt loney a...</td>\n",
       "      <td>first read style writting soon became hooked book wanted fall knees shut rest world haddon delivers portrayal woman hurt abused think wonderful job making reader feel like character</td>\n",
       "      <td>325</td>\n",
       "      <td>66</td>\n",
       "      <td>0.625000</td>\n",
       "    </tr>\n",
       "    <tr>\n",
       "      <th>18</th>\n",
       "      <td>0595344550</td>\n",
       "      <td>Whispers of the Wicked Saints</td>\n",
       "      <td>10.95</td>\n",
       "      <td>ACO23CG8K8T77</td>\n",
       "      <td>Tonya</td>\n",
       "      <td>5/9</td>\n",
       "      <td>5.0</td>\n",
       "      <td>1117065600</td>\n",
       "      <td>Bravo Veronica</td>\n",
       "      <td>I read the review directly under mine and I have to say I laughed. How can someone write a honest review on a book they read only three pages of? That was funny but also sad that people are mean enough to keep others from an enjoyable r...</td>\n",
       "      <td>read review directly mine say laughed someone write honest review book read three pages funny also sad people mean enough keep others enjoyable read loved book thought first chapter little long read whole book loved book heart right hap...</td>\n",
       "      <td>684</td>\n",
       "      <td>143</td>\n",
       "      <td>0.299320</td>\n",
       "    </tr>\n",
       "  </tbody>\n",
       "</table>\n",
       "</div>"
      ],
      "text/plain": [
       "            Id                          Title  Price         User_id  \\\n",
       "14  0595344550  Whispers of the Wicked Saints  10.95  A3Q12RK71N74LB   \n",
       "15  0595344550  Whispers of the Wicked Saints  10.95  A1E9M6APK30ZAU   \n",
       "16  0595344550  Whispers of the Wicked Saints  10.95   AUR0VA5H0C66C   \n",
       "17  0595344550  Whispers of the Wicked Saints  10.95  A1YLDZ3VHR6QPZ   \n",
       "18  0595344550  Whispers of the Wicked Saints  10.95   ACO23CG8K8T77   \n",
       "\n",
       "                         profileName review/helpfulness  review/score  \\\n",
       "14                       Book Reader               7/11           1.0   \n",
       "15                         V. Powell                1/2           4.0   \n",
       "16  LoveToRead \"Actually Read Books\"                1/2           1.0   \n",
       "17                             Clara                2/4           5.0   \n",
       "18                             Tonya                5/9           5.0   \n",
       "\n",
       "    review/time       review/summary  \\\n",
       "14   1117065600             not good   \n",
       "15   1119571200   Here is my opinion   \n",
       "16   1119225600         Buyer beware   \n",
       "17   1115942400  Fall on your knee's   \n",
       "18   1117065600       Bravo Veronica   \n",
       "\n",
       "                                                                                                                                                                                                                                        review/text  \\\n",
       "14  I bought this book because I read some glowing praise on an online library site. Unfortunately, I was deeply disappointed by page three. I always buy books in the hope and expectation of having an enjoyable read, not to criticise. Howev...   \n",
       "15  I have to admit, I am not one to write reviews on book. I do however like to read them. Some of the reviews are great, some are cruel, but the reviews on this book were absolutlely hysterical. I read this book and after watching the war...   \n",
       "16  This is a self-published book, and if you want to know why--read a few paragraphs! Those 5 star reviews must have been written by Ms. Haddon's family and friends--or perhaps, by herself! I can't imagine anyone reading the whole thing--I...   \n",
       "17  When I first read this the I was mezmerized at the style of writting. I soon became so hooked on this book that I wanted to fall on my knees and shut out the rest of the world. Haddon delivers a portrayal of a woman that is hurt loney a...   \n",
       "18  I read the review directly under mine and I have to say I laughed. How can someone write a honest review on a book they read only three pages of? That was funny but also sad that people are mean enough to keep others from an enjoyable r...   \n",
       "\n",
       "                                                                                                                                                                                                                                            review1  \\\n",
       "14  bought book read glowing praise online library site unfortunately deeply disappointed page three always buy books hope expectation enjoyable read criticise however book urgent need good editing though quite possibly editing alone wouldn...   \n",
       "15  admit one write reviews book however like read reviews great cruel reviews book absolutlely hysterical read book watching war words couldnt help jump good side book loved kept bad side say typo featured back cover secret liking book mak...   \n",
       "16  selfpublished book want know paragraphs 5 star reviews must written ms haddons family perhaps cant imagine anyone reading whole spent evening book friend reading bits pieces one another definitely bad enough entered kind worst book cont...   \n",
       "17                                                            first read style writting soon became hooked book wanted fall knees shut rest world haddon delivers portrayal woman hurt abused think wonderful job making reader feel like character   \n",
       "18  read review directly mine say laughed someone write honest review book read three pages funny also sad people mean enough keep others enjoyable read loved book thought first chapter little long read whole book loved book heart right hap...   \n",
       "\n",
       "    review_len  word_count  polarity  \n",
       "14        1025         176  0.025595  \n",
       "15        1201         239 -0.062500  \n",
       "16         724         137  0.030000  \n",
       "17         325          66  0.625000  \n",
       "18         684         143  0.299320  "
      ]
     },
     "execution_count": 14,
     "metadata": {},
     "output_type": "execute_result"
    }
   ],
   "source": [
    "df['polarity'] = df['review1'].map(lambda text: TextBlob(text).sentiment.polarity)\n",
    "df.head()"
   ]
  },
  {
   "cell_type": "markdown",
   "id": "dcd19ef3",
   "metadata": {
    "papermill": {
     "duration": 0.013847,
     "end_time": "2023-11-21T15:31:00.837105",
     "exception": false,
     "start_time": "2023-11-21T15:31:00.823258",
     "status": "completed"
    },
    "tags": []
   },
   "source": [
    "> This code generates histograms to visualize the distribution of review lengths, word counts, and the sentiment(polarity) of a review."
   ]
  },
  {
   "cell_type": "code",
   "execution_count": 15,
   "id": "f420e51a",
   "metadata": {
    "execution": {
     "iopub.execute_input": "2023-11-21T15:31:00.866962Z",
     "iopub.status.busy": "2023-11-21T15:31:00.866555Z",
     "iopub.status.idle": "2023-11-21T15:31:01.873489Z",
     "shell.execute_reply": "2023-11-21T15:31:01.872385Z"
    },
    "papermill": {
     "duration": 1.024904,
     "end_time": "2023-11-21T15:31:01.876102",
     "exception": false,
     "start_time": "2023-11-21T15:31:00.851198",
     "status": "completed"
    },
    "tags": []
   },
   "outputs": [
    {
     "data": {
      "text/plain": [
       "array([[<Axes: title={'center': 'review_len'}>,\n",
       "        <Axes: title={'center': 'word_count'}>],\n",
       "       [<Axes: title={'center': 'polarity'}>, <Axes: >]], dtype=object)"
      ]
     },
     "execution_count": 15,
     "metadata": {},
     "output_type": "execute_result"
    },
    {
     "data": {
      "image/png": "[encoded data removed]",
      "text/plain": [
       "<Figure size 1500x1000 with 4 Axes>"
      ]
     },
     "metadata": {},
     "output_type": "display_data"
    }
   ],
   "source": [
    "df[[\"review_len\", \"word_count\", \"polarity\"]].hist(bins=20, figsize=(15, 10))"
   ]
  },
  {
   "cell_type": "markdown",
   "id": "dbc2f2f7",
   "metadata": {
    "papermill": {
     "duration": 0.015091,
     "end_time": "2023-11-21T15:31:01.906489",
     "exception": false,
     "start_time": "2023-11-21T15:31:01.891398",
     "status": "completed"
    },
    "tags": []
   },
   "source": [
    "> The following box plot will compare polarity with the product ratings given on Amazon    "
   ]
  },
  {
   "cell_type": "code",
   "execution_count": 16,
   "id": "32842550",
   "metadata": {
    "execution": {
     "iopub.execute_input": "2023-11-21T15:31:01.938491Z",
     "iopub.status.busy": "2023-11-21T15:31:01.937830Z",
     "iopub.status.idle": "2023-11-21T15:31:02.384826Z",
     "shell.execute_reply": "2023-11-21T15:31:02.383691Z"
    },
    "papermill": {
     "duration": 0.465979,
     "end_time": "2023-11-21T15:31:02.387537",
     "exception": false,
     "start_time": "2023-11-21T15:31:01.921558",
     "status": "completed"
    },
    "tags": []
   },
   "outputs": [
    {
     "data": {
      "image/png": "[encoded data removed]",
      "text/plain": [
       "<Figure size 1000x800 with 1 Axes>"
      ]
     },
     "metadata": {},
     "output_type": "display_data"
    }
   ],
   "source": [
    "\n",
    "plt.figure(figsize = (10, 8))\n",
    "sns.set_style('whitegrid')\n",
    "sns.set(font_scale = 1.5)\n",
    "sns.boxplot(x = 'review/score', y = 'polarity', data = df)\n",
    "plt.xlabel(\"Rating\")\n",
    "plt.ylabel(\"Polatiry\")\n",
    "plt.title(\"Product Ratings vs Polarity\")\n",
    "plt.show()"
   ]
  },
  {
   "cell_type": "markdown",
   "id": "9c1b6001",
   "metadata": {
    "papermill": {
     "duration": 0.01575,
     "end_time": "2023-11-21T15:31:02.418836",
     "exception": false,
     "start_time": "2023-11-21T15:31:02.403086",
     "status": "completed"
    },
    "tags": []
   },
   "source": [
    "> This bar chart shows the average polarity for reviews grouped by their corresponding Amazon review scores.  "
   ]
  },
  {
   "cell_type": "code",
   "execution_count": 17,
   "id": "aa90bdae",
   "metadata": {
    "execution": {
     "iopub.execute_input": "2023-11-21T15:31:02.452567Z",
     "iopub.status.busy": "2023-11-21T15:31:02.452162Z",
     "iopub.status.idle": "2023-11-21T15:31:02.841099Z",
     "shell.execute_reply": "2023-11-21T15:31:02.839956Z"
    },
    "papermill": {
     "duration": 0.408861,
     "end_time": "2023-11-21T15:31:02.843646",
     "exception": false,
     "start_time": "2023-11-21T15:31:02.434785",
     "status": "completed"
    },
    "tags": []
   },
   "outputs": [
    {
     "data": {
      "image/png": "[encoded data removed]",
      "text/plain": [
       "<Figure size 800x600 with 1 Axes>"
      ]
     },
     "metadata": {},
     "output_type": "display_data"
    }
   ],
   "source": [
    "mean_pol = df.groupby('review/score')['polarity'].agg([np.mean])\n",
    "mean_pol.columns = ['mean_polarity']\n",
    "fig, ax = plt.subplots(figsize=(8, 6))\n",
    "plt.bar(mean_pol.index, mean_pol.mean_polarity, width=0.3)\n",
    "#plt.gca().set_xticklabels(mean_pol.index, fontdict={'size': 14})\n",
    "for i in ax.patches:\n",
    "    ax.text(i.get_x(), i.get_height()+0.01, str(\"{:.2f}\".format(i.get_height())))"
   ]
  },
  {
   "cell_type": "markdown",
   "id": "bdb75aa8",
   "metadata": {
    "papermill": {
     "duration": 0.015806,
     "end_time": "2023-11-21T15:31:02.875640",
     "exception": false,
     "start_time": "2023-11-21T15:31:02.859834",
     "status": "completed"
    },
    "tags": []
   },
   "source": [
    "> Count of the reviews of each rating"
   ]
  },
  {
   "cell_type": "code",
   "execution_count": 18,
   "id": "a8f2134f",
   "metadata": {
    "execution": {
     "iopub.execute_input": "2023-11-21T15:31:02.910440Z",
     "iopub.status.busy": "2023-11-21T15:31:02.910032Z",
     "iopub.status.idle": "2023-11-21T15:31:03.236364Z",
     "shell.execute_reply": "2023-11-21T15:31:03.235244Z"
    },
    "papermill": {
     "duration": 0.346891,
     "end_time": "2023-11-21T15:31:03.238938",
     "exception": false,
     "start_time": "2023-11-21T15:31:02.892047",
     "status": "completed"
    },
    "tags": []
   },
   "outputs": [
    {
     "data": {
      "image/png": "[encoded data removed]",
      "text/plain": [
       "<Figure size 800x600 with 1 Axes>"
      ]
     },
     "metadata": {},
     "output_type": "display_data"
    }
   ],
   "source": [
    "plt.figure(figsize=(8, 6))\n",
    "sns.countplot(x='review/score', data=df)\n",
    "plt.xlabel(\"Rating\")\n",
    "plt.title(\"Number of data of each rating\")\n",
    "plt.show()"
   ]
  },
  {
   "cell_type": "markdown",
   "id": "1a3e51b3",
   "metadata": {
    "papermill": {
     "duration": 0.016552,
     "end_time": "2023-11-21T15:31:03.272127",
     "exception": false,
     "start_time": "2023-11-21T15:31:03.255575",
     "status": "completed"
    },
    "tags": []
   },
   "source": [
    "> Review length based on rating.  "
   ]
  },
  {
   "cell_type": "code",
   "execution_count": 19,
   "id": "d60a0d85",
   "metadata": {
    "execution": {
     "iopub.execute_input": "2023-11-21T15:31:03.307155Z",
     "iopub.status.busy": "2023-11-21T15:31:03.306782Z",
     "iopub.status.idle": "2023-11-21T15:31:03.934344Z",
     "shell.execute_reply": "2023-11-21T15:31:03.933249Z"
    },
    "papermill": {
     "duration": 0.648093,
     "end_time": "2023-11-21T15:31:03.936876",
     "exception": false,
     "start_time": "2023-11-21T15:31:03.288783",
     "status": "completed"
    },
    "tags": []
   },
   "outputs": [
    {
     "data": {
      "image/png": "[encoded data removed]",
      "text/plain": [
       "<Figure size 1000x600 with 1 Axes>"
      ]
     },
     "metadata": {},
     "output_type": "display_data"
    }
   ],
   "source": [
    "plt.figure(figsize=(10, 6))\n",
    "sns.pointplot(x = \"review/score\", y = \"review_len\", data = df)\n",
    "plt.xlabel(\"Rating\")\n",
    "plt.ylabel(\"Review Length\")\n",
    "plt.title(\"Product Rating vs Review Length\")\n",
    "plt.show()"
   ]
  },
  {
   "cell_type": "markdown",
   "id": "8f24c8dd",
   "metadata": {
    "papermill": {
     "duration": 0.017433,
     "end_time": "2023-11-21T15:31:03.972229",
     "exception": false,
     "start_time": "2023-11-21T15:31:03.954796",
     "status": "completed"
    },
    "tags": []
   },
   "source": [
    "> Top 20 books based on polarity"
   ]
  },
  {
   "cell_type": "code",
   "execution_count": 20,
   "id": "411ae4f1",
   "metadata": {
    "execution": {
     "iopub.execute_input": "2023-11-21T15:31:04.010202Z",
     "iopub.status.busy": "2023-11-21T15:31:04.009800Z",
     "iopub.status.idle": "2023-11-21T15:31:04.026859Z",
     "shell.execute_reply": "2023-11-21T15:31:04.026046Z"
    },
    "papermill": {
     "duration": 0.038863,
     "end_time": "2023-11-21T15:31:04.028887",
     "exception": false,
     "start_time": "2023-11-21T15:31:03.990024",
     "status": "completed"
    },
    "tags": []
   },
   "outputs": [
    {
     "data": {
      "text/html": [
       "<div>\n",
       "<style scoped>\n",
       "    .dataframe tbody tr th:only-of-type {\n",
       "        vertical-align: middle;\n",
       "    }\n",
       "\n",
       "    .dataframe tbody tr th {\n",
       "        vertical-align: top;\n",
       "    }\n",
       "\n",
       "    .dataframe thead th {\n",
       "        text-align: right;\n",
       "    }\n",
       "</style>\n",
       "<table border=\"1\" class=\"dataframe\">\n",
       "  <thead>\n",
       "    <tr style=\"text-align: right;\">\n",
       "      <th></th>\n",
       "      <th>polarity</th>\n",
       "    </tr>\n",
       "    <tr>\n",
       "      <th>Title</th>\n",
       "      <th></th>\n",
       "    </tr>\n",
       "  </thead>\n",
       "  <tbody>\n",
       "    <tr>\n",
       "      <th>The Gun Digest Book of the 1911: A Complete Look at the Use, Care &amp; Repair of the 1911 Pistol, Vol. 1</th>\n",
       "      <td>0.356086</td>\n",
       "    </tr>\n",
       "    <tr>\n",
       "      <th>Woodcraft</th>\n",
       "      <td>0.354316</td>\n",
       "    </tr>\n",
       "    <tr>\n",
       "      <th>Sea Runners</th>\n",
       "      <td>0.331834</td>\n",
       "    </tr>\n",
       "    <tr>\n",
       "      <th>Dali</th>\n",
       "      <td>0.329967</td>\n",
       "    </tr>\n",
       "    <tr>\n",
       "      <th>Death Dream</th>\n",
       "      <td>0.328833</td>\n",
       "    </tr>\n",
       "    <tr>\n",
       "      <th>SPELLBINDER: NIGHTWORLD</th>\n",
       "      <td>0.327522</td>\n",
       "    </tr>\n",
       "    <tr>\n",
       "      <th>Alaska Sourdough</th>\n",
       "      <td>0.315574</td>\n",
       "    </tr>\n",
       "    <tr>\n",
       "      <th>The Chosen (Night World)</th>\n",
       "      <td>0.313212</td>\n",
       "    </tr>\n",
       "    <tr>\n",
       "      <th>Sweet Hush: A Novel</th>\n",
       "      <td>0.312110</td>\n",
       "    </tr>\n",
       "    <tr>\n",
       "      <th>Your Child's Self Esteem</th>\n",
       "      <td>0.305967</td>\n",
       "    </tr>\n",
       "    <tr>\n",
       "      <th>Madame Curie: A biography</th>\n",
       "      <td>0.302165</td>\n",
       "    </tr>\n",
       "    <tr>\n",
       "      <th>Eyewitness Travel Guide to Europe</th>\n",
       "      <td>0.301579</td>\n",
       "    </tr>\n",
       "    <tr>\n",
       "      <th>Making Journals by Hand: 20 Creative Projects for Keeping Your Thoughts</th>\n",
       "      <td>0.301331</td>\n",
       "    </tr>\n",
       "    <tr>\n",
       "      <th>Night World: Daughters Of Darkness</th>\n",
       "      <td>0.300703</td>\n",
       "    </tr>\n",
       "    <tr>\n",
       "      <th>Itten The Elements of Color</th>\n",
       "      <td>0.289529</td>\n",
       "    </tr>\n",
       "    <tr>\n",
       "      <th>The Gluten-Free Bible: The Thoroughly Indispensable Guide to Negotiating Life without Wheat</th>\n",
       "      <td>0.288682</td>\n",
       "    </tr>\n",
       "    <tr>\n",
       "      <th>The Night Horseman (Sagebrush Largeprint Westerns)</th>\n",
       "      <td>0.279450</td>\n",
       "    </tr>\n",
       "    <tr>\n",
       "      <th>Nonna's Italian Kitchen: Delicious Home-Style Vegan Cuisine (Healthy World Cuisine)</th>\n",
       "      <td>0.278622</td>\n",
       "    </tr>\n",
       "    <tr>\n",
       "      <th>Puss in Boots Hb (Read It Yourself)</th>\n",
       "      <td>0.274514</td>\n",
       "    </tr>\n",
       "    <tr>\n",
       "      <th>How to Write and Speak Correctly</th>\n",
       "      <td>0.274200</td>\n",
       "    </tr>\n",
       "  </tbody>\n",
       "</table>\n",
       "</div>"
      ],
      "text/plain": [
       "                                                                                                       polarity\n",
       "Title                                                                                                          \n",
       "The Gun Digest Book of the 1911: A Complete Look at the Use, Care & Repair of the 1911 Pistol, Vol. 1  0.356086\n",
       "Woodcraft                                                                                              0.354316\n",
       "Sea Runners                                                                                            0.331834\n",
       "Dali                                                                                                   0.329967\n",
       "Death Dream                                                                                            0.328833\n",
       "SPELLBINDER: NIGHTWORLD                                                                                0.327522\n",
       "Alaska Sourdough                                                                                       0.315574\n",
       "The Chosen (Night World)                                                                               0.313212\n",
       "Sweet Hush: A Novel                                                                                    0.312110\n",
       "Your Child's Self Esteem                                                                               0.305967\n",
       "Madame Curie: A biography                                                                              0.302165\n",
       "Eyewitness Travel Guide to Europe                                                                      0.301579\n",
       "Making Journals by Hand: 20 Creative Projects for Keeping Your Thoughts                                0.301331\n",
       "Night World: Daughters Of Darkness                                                                     0.300703\n",
       "Itten The Elements of Color                                                                            0.289529\n",
       "The Gluten-Free Bible: The Thoroughly Indispensable Guide to Negotiating Life without Wheat            0.288682\n",
       "The Night Horseman (Sagebrush Largeprint Westerns)                                                     0.279450\n",
       "Nonna's Italian Kitchen: Delicious Home-Style Vegan Cuisine (Healthy World Cuisine)                    0.278622\n",
       "Puss in Boots Hb (Read It Yourself)                                                                    0.274514\n",
       "How to Write and Speak Correctly                                                                       0.274200"
      ]
     },
     "execution_count": 20,
     "metadata": {},
     "output_type": "execute_result"
    }
   ],
   "source": [
    "product_pol = df.groupby('Title')['polarity'].agg([np.mean])\n",
    "product_pol.columns = ['polarity']\n",
    "product_pol = product_pol.sort_values('polarity', ascending=False)\n",
    "product_pol = product_pol.head(20)\n",
    "product_pol"
   ]
  },
  {
   "cell_type": "markdown",
   "id": "39a622ee",
   "metadata": {
    "papermill": {
     "duration": 0.017672,
     "end_time": "2023-11-21T15:31:04.064705",
     "exception": false,
     "start_time": "2023-11-21T15:31:04.047033",
     "status": "completed"
    },
    "tags": []
   },
   "source": [
    "> Top most occurring words in the reviews"
   ]
  },
  {
   "cell_type": "code",
   "execution_count": 21,
   "id": "5d6a5381",
   "metadata": {
    "execution": {
     "iopub.execute_input": "2023-11-21T15:31:04.103029Z",
     "iopub.status.busy": "2023-11-21T15:31:04.102280Z",
     "iopub.status.idle": "2023-11-21T15:31:06.126212Z",
     "shell.execute_reply": "2023-11-21T15:31:06.125368Z"
    },
    "papermill": {
     "duration": 2.046258,
     "end_time": "2023-11-21T15:31:06.128931",
     "exception": false,
     "start_time": "2023-11-21T15:31:04.082673",
     "status": "completed"
    },
    "tags": []
   },
   "outputs": [
    {
     "data": {
      "text/html": [
       "<div>\n",
       "<style scoped>\n",
       "    .dataframe tbody tr th:only-of-type {\n",
       "        vertical-align: middle;\n",
       "    }\n",
       "\n",
       "    .dataframe tbody tr th {\n",
       "        vertical-align: top;\n",
       "    }\n",
       "\n",
       "    .dataframe thead th {\n",
       "        text-align: right;\n",
       "    }\n",
       "</style>\n",
       "<table border=\"1\" class=\"dataframe\">\n",
       "  <thead>\n",
       "    <tr style=\"text-align: right;\">\n",
       "      <th></th>\n",
       "      <th>Review</th>\n",
       "      <th>count</th>\n",
       "    </tr>\n",
       "  </thead>\n",
       "  <tbody>\n",
       "    <tr>\n",
       "      <th>0</th>\n",
       "      <td>book</td>\n",
       "      <td>18047</td>\n",
       "    </tr>\n",
       "    <tr>\n",
       "      <th>1</th>\n",
       "      <td>read</td>\n",
       "      <td>8163</td>\n",
       "    </tr>\n",
       "    <tr>\n",
       "      <th>2</th>\n",
       "      <td>one</td>\n",
       "      <td>6190</td>\n",
       "    </tr>\n",
       "    <tr>\n",
       "      <th>3</th>\n",
       "      <td>story</td>\n",
       "      <td>4152</td>\n",
       "    </tr>\n",
       "    <tr>\n",
       "      <th>4</th>\n",
       "      <td>like</td>\n",
       "      <td>3817</td>\n",
       "    </tr>\n",
       "  </tbody>\n",
       "</table>\n",
       "</div>"
      ],
      "text/plain": [
       "  Review  count\n",
       "0   book  18047\n",
       "1   read   8163\n",
       "2    one   6190\n",
       "3  story   4152\n",
       "4   like   3817"
      ]
     },
     "execution_count": 21,
     "metadata": {},
     "output_type": "execute_result"
    }
   ],
   "source": [
    "\n",
    "def get_top_n_words(corpus, n=None):\n",
    "    vec=CountVectorizer().fit(corpus)\n",
    "    bag_of_words = vec.transform(corpus)\n",
    "    sum_words = bag_of_words.sum(axis=0)\n",
    "    words_freq = [(word, sum_words[0, idx]) for word, idx in vec.vocabulary_.items()]\n",
    "    words_freq =sorted(words_freq, key = lambda x: x[1], reverse=True)\n",
    "    return words_freq[:n]\n",
    "\n",
    "common_words = get_top_n_words(df['review1'], 20)\n",
    "df1 = pd.DataFrame(common_words, columns = ['Review', 'count'])\n",
    "df1.head()"
   ]
  }
 ],
 "metadata": {
  "kaggle": {
   "accelerator": "none",
   "dataSources": [
    {
     "datasetId": 2476732,
     "sourceId": 4200454,
     "sourceType": "datasetVersion"
    }
   ],
   "dockerImageVersionId": 30558,
   "isGpuEnabled": false,
   "isInternetEnabled": true,
   "language": "python",
   "sourceType": "notebook"
  },
  "kernelspec": {
   "display_name": "Python 3",
   "language": "python",
   "name": "python3"
  },
  "language_info": {
   "codemirror_mode": {
    "name": "ipython",
    "version": 3
   },
   "file_extension": ".py",
   "mimetype": "text/x-python",
   "name": "python",
   "nbconvert_exporter": "python",
   "pygments_lexer": "ipython3",
   "version": "3.10.12"
  },
  "papermill": {
   "default_parameters": {},
   "duration": 622.089113,
   "end_time": "2023-11-21T15:31:07.773634",
   "environment_variables": {},
   "exception": null,
   "input_path": "__notebook__.ipynb",
   "output_path": "__notebook__.ipynb",
   "parameters": {},
   "start_time": "2023-11-21T15:20:45.684521",
   "version": "2.4.0"
  }
 },
 "nbformat": 4,
 "nbformat_minor": 5
}
