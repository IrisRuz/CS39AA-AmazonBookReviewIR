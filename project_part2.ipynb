{
 "cells": [
  {
   "cell_type": "markdown",
   "id": "5ee8d776",
   "metadata": {
    "papermill": {
     "duration": 0.005514,
     "end_time": "2023-11-26T00:01:03.365433",
     "exception": false,
     "start_time": "2023-11-26T00:01:03.359919",
     "status": "completed"
    },
    "tags": []
   },
   "source": [
    "# Project Part 2\n",
    "\n",
    "[![Kaggle](https://kaggle.com/static/images/open-in-kaggle.svg)](https://www.kaggle.com/code/irisruz/notebooked49988da3/edit)\n"
   ]
  },
  {
   "cell_type": "code",
   "execution_count": 1,
   "id": "20ebfcb7",
   "metadata": {
    "_cell_guid": "b1076dfc-b9ad-4769-8c92-a6c4dae69d19",
    "_uuid": "8f2839f25d086af736a60e9eeb907d3b93b6e0e5",
    "execution": {
     "iopub.execute_input": "2023-11-26T00:01:03.380688Z",
     "iopub.status.busy": "2023-11-26T00:01:03.379853Z",
     "iopub.status.idle": "2023-11-26T00:01:07.064996Z",
     "shell.execute_reply": "2023-11-26T00:01:07.063344Z"
    },
    "papermill": {
     "duration": 3.694921,
     "end_time": "2023-11-26T00:01:07.067717",
     "exception": false,
     "start_time": "2023-11-26T00:01:03.372796",
     "status": "completed"
    },
    "tags": []
   },
   "outputs": [
    {
     "name": "stdout",
     "output_type": "stream",
     "text": [
      "[nltk_data] Downloading package stopwords to /usr/share/nltk_data...\n",
      "[nltk_data]   Package stopwords is already up-to-date!\n",
      "[nltk_data] Downloading package punkt to /usr/share/nltk_data...\n",
      "[nltk_data]   Package punkt is already up-to-date!\n",
      "/kaggle/input/amazon-books-reviews/books_data.csv\n",
      "/kaggle/input/amazon-books-reviews/Books_rating.csv\n"
     ]
    }
   ],
   "source": [
    "import pandas as pd\n",
    "import numpy as np\n",
    "import nltk\n",
    "from nltk.corpus import stopwords\n",
    "nltk.download('stopwords')\n",
    "from nltk.tokenize import word_tokenize\n",
    "nltk.download('punkt')\n",
    "\n",
    "import string\n",
    "from textblob import TextBlob\n",
    "from textblob import Word\n",
    "import matplotlib.pyplot as plt\n",
    "import seaborn as sns\n",
    "from sklearn.model_selection import train_test_split, GridSearchCV\n",
    "from sklearn.feature_extraction.text import TfidfVectorizer\n",
    "from sklearn.ensemble import RandomForestClassifier\n",
    "from sklearn.metrics import confusion_matrix, ConfusionMatrixDisplay, accuracy_score\n",
    "\n",
    "import re\n",
    "\n",
    "import os\n",
    "for dirname, _, filenames in os.walk('/kaggle/input'):\n",
    "    for filename in filenames:\n",
    "        print(os.path.join(dirname, filename))\n"
   ]
  },
  {
   "cell_type": "code",
   "execution_count": 2,
   "id": "f191729b",
   "metadata": {
    "execution": {
     "iopub.execute_input": "2023-11-26T00:01:07.080042Z",
     "iopub.status.busy": "2023-11-26T00:01:07.079435Z",
     "iopub.status.idle": "2023-11-26T00:02:06.000678Z",
     "shell.execute_reply": "2023-11-26T00:02:05.999076Z"
    },
    "papermill": {
     "duration": 58.933738,
     "end_time": "2023-11-26T00:02:06.006722",
     "exception": false,
     "start_time": "2023-11-26T00:01:07.072984",
     "status": "completed"
    },
    "tags": []
   },
   "outputs": [
    {
     "name": "stdout",
     "output_type": "stream",
     "text": [
      "df.shape: (3000000, 10)\n"
     ]
    },
    {
     "data": {
      "text/html": [
       "<div>\n",
       "<style scoped>\n",
       "    .dataframe tbody tr th:only-of-type {\n",
       "        vertical-align: middle;\n",
       "    }\n",
       "\n",
       "    .dataframe tbody tr th {\n",
       "        vertical-align: top;\n",
       "    }\n",
       "\n",
       "    .dataframe thead th {\n",
       "        text-align: right;\n",
       "    }\n",
       "</style>\n",
       "<table border=\"1\" class=\"dataframe\">\n",
       "  <thead>\n",
       "    <tr style=\"text-align: right;\">\n",
       "      <th></th>\n",
       "      <th>Id</th>\n",
       "      <th>Title</th>\n",
       "      <th>Price</th>\n",
       "      <th>User_id</th>\n",
       "      <th>profileName</th>\n",
       "      <th>review/helpfulness</th>\n",
       "      <th>review/score</th>\n",
       "      <th>review/time</th>\n",
       "      <th>review/summary</th>\n",
       "      <th>review/text</th>\n",
       "    </tr>\n",
       "  </thead>\n",
       "  <tbody>\n",
       "    <tr>\n",
       "      <th>0</th>\n",
       "      <td>1882931173</td>\n",
       "      <td>Its Only Art If Its Well Hung!</td>\n",
       "      <td>NaN</td>\n",
       "      <td>AVCGYZL8FQQTD</td>\n",
       "      <td>Jim of Oz \"jim-of-oz\"</td>\n",
       "      <td>7/7</td>\n",
       "      <td>4.0</td>\n",
       "      <td>940636800</td>\n",
       "      <td>Nice collection of Julie Strain images</td>\n",
       "      <td>This is only for Julie Strain fans. It's a collection of her photos -- about 80 pages worth with a nice section of paintings by Olivia.If you're looking for heavy literary content, this isn't the place to find it -- there's only about 2...</td>\n",
       "    </tr>\n",
       "    <tr>\n",
       "      <th>1</th>\n",
       "      <td>0826414346</td>\n",
       "      <td>Dr. Seuss: American Icon</td>\n",
       "      <td>NaN</td>\n",
       "      <td>A30TK6U7DNS82R</td>\n",
       "      <td>Kevin Killian</td>\n",
       "      <td>10/10</td>\n",
       "      <td>5.0</td>\n",
       "      <td>1095724800</td>\n",
       "      <td>Really Enjoyed It</td>\n",
       "      <td>I don't care much for Dr. Seuss but after reading Philip Nel's book I changed my mind--that's a good testimonial to the power of Rel's writing and thinking. Rel plays Dr. Seuss the ultimate compliment of treating him as a serious poet a...</td>\n",
       "    </tr>\n",
       "    <tr>\n",
       "      <th>2</th>\n",
       "      <td>0826414346</td>\n",
       "      <td>Dr. Seuss: American Icon</td>\n",
       "      <td>NaN</td>\n",
       "      <td>A3UH4UZ4RSVO82</td>\n",
       "      <td>John Granger</td>\n",
       "      <td>10/11</td>\n",
       "      <td>5.0</td>\n",
       "      <td>1078790400</td>\n",
       "      <td>Essential for every personal and Public Library</td>\n",
       "      <td>If people become the books they read and if \"the child is father to the man,\" then Dr. Seuss (Theodor Seuss Geisel) is the most influential author, poet, and artist of modern times. For me, a daddy to a large family who learned to read ...</td>\n",
       "    </tr>\n",
       "    <tr>\n",
       "      <th>3</th>\n",
       "      <td>0826414346</td>\n",
       "      <td>Dr. Seuss: American Icon</td>\n",
       "      <td>NaN</td>\n",
       "      <td>A2MVUWT453QH61</td>\n",
       "      <td>Roy E. Perry \"amateur philosopher\"</td>\n",
       "      <td>7/7</td>\n",
       "      <td>4.0</td>\n",
       "      <td>1090713600</td>\n",
       "      <td>Phlip Nel gives silly Seuss a serious treatment</td>\n",
       "      <td>Theodore Seuss Geisel (1904-1991), aka &amp;quot;Dr. Seuss,&amp;quot; was one of the most influential writers and artists of the 20th century.In 1959, Rudolf Flesch wrote, &amp;quot;A hundred years from now, children and their parents will still ea...</td>\n",
       "    </tr>\n",
       "    <tr>\n",
       "      <th>4</th>\n",
       "      <td>0826414346</td>\n",
       "      <td>Dr. Seuss: American Icon</td>\n",
       "      <td>NaN</td>\n",
       "      <td>A22X4XUPKF66MR</td>\n",
       "      <td>D. H. Richards \"ninthwavestore\"</td>\n",
       "      <td>3/3</td>\n",
       "      <td>4.0</td>\n",
       "      <td>1107993600</td>\n",
       "      <td>Good academic overview</td>\n",
       "      <td>Philip Nel - Dr. Seuss: American IconThis is basically an academic overview of Seuss poetry, art, cartoons, and the problems with the commercialization of the Seuss name and works after his death. It is not, to any real extent, a biogra...</td>\n",
       "    </tr>\n",
       "  </tbody>\n",
       "</table>\n",
       "</div>"
      ],
      "text/plain": [
       "           Id                           Title  Price         User_id  \\\n",
       "0  1882931173  Its Only Art If Its Well Hung!    NaN   AVCGYZL8FQQTD   \n",
       "1  0826414346        Dr. Seuss: American Icon    NaN  A30TK6U7DNS82R   \n",
       "2  0826414346        Dr. Seuss: American Icon    NaN  A3UH4UZ4RSVO82   \n",
       "3  0826414346        Dr. Seuss: American Icon    NaN  A2MVUWT453QH61   \n",
       "4  0826414346        Dr. Seuss: American Icon    NaN  A22X4XUPKF66MR   \n",
       "\n",
       "                          profileName review/helpfulness  review/score  \\\n",
       "0               Jim of Oz \"jim-of-oz\"                7/7           4.0   \n",
       "1                       Kevin Killian              10/10           5.0   \n",
       "2                        John Granger              10/11           5.0   \n",
       "3  Roy E. Perry \"amateur philosopher\"                7/7           4.0   \n",
       "4     D. H. Richards \"ninthwavestore\"                3/3           4.0   \n",
       "\n",
       "   review/time                                   review/summary  \\\n",
       "0    940636800           Nice collection of Julie Strain images   \n",
       "1   1095724800                                Really Enjoyed It   \n",
       "2   1078790400  Essential for every personal and Public Library   \n",
       "3   1090713600  Phlip Nel gives silly Seuss a serious treatment   \n",
       "4   1107993600                           Good academic overview   \n",
       "\n",
       "                                                                                                                                                                                                                                       review/text  \n",
       "0  This is only for Julie Strain fans. It's a collection of her photos -- about 80 pages worth with a nice section of paintings by Olivia.If you're looking for heavy literary content, this isn't the place to find it -- there's only about 2...  \n",
       "1  I don't care much for Dr. Seuss but after reading Philip Nel's book I changed my mind--that's a good testimonial to the power of Rel's writing and thinking. Rel plays Dr. Seuss the ultimate compliment of treating him as a serious poet a...  \n",
       "2  If people become the books they read and if \"the child is father to the man,\" then Dr. Seuss (Theodor Seuss Geisel) is the most influential author, poet, and artist of modern times. For me, a daddy to a large family who learned to read ...  \n",
       "3  Theodore Seuss Geisel (1904-1991), aka &quot;Dr. Seuss,&quot; was one of the most influential writers and artists of the 20th century.In 1959, Rudolf Flesch wrote, &quot;A hundred years from now, children and their parents will still ea...  \n",
       "4  Philip Nel - Dr. Seuss: American IconThis is basically an academic overview of Seuss poetry, art, cartoons, and the problems with the commercialization of the Seuss name and works after his death. It is not, to any real extent, a biogra...  "
      ]
     },
     "execution_count": 2,
     "metadata": {},
     "output_type": "execute_result"
    }
   ],
   "source": [
    "dataset_path = '/kaggle/input/amazon-books-reviews/Books_rating.csv'\n",
    "df = pd.read_csv(dataset_path)\n",
    "print(f\"df.shape: {df.shape}\")\n",
    "pd.set_option(\"display.max_colwidth\", 240)\n",
    "df.head()"
   ]
  },
  {
   "cell_type": "markdown",
   "id": "c2d9058d",
   "metadata": {
    "papermill": {
     "duration": 0.006006,
     "end_time": "2023-11-26T00:02:06.017607",
     "exception": false,
     "start_time": "2023-11-26T00:02:06.011601",
     "status": "completed"
    },
    "tags": []
   },
   "source": [
    "Here we will sort the data by Title and remove any books that have less than twenty reviews."
   ]
  },
  {
   "cell_type": "code",
   "execution_count": 3,
   "id": "8dbb9453",
   "metadata": {
    "execution": {
     "iopub.execute_input": "2023-11-26T00:02:06.031370Z",
     "iopub.status.busy": "2023-11-26T00:02:06.030975Z",
     "iopub.status.idle": "2023-11-26T00:02:07.389915Z",
     "shell.execute_reply": "2023-11-26T00:02:07.387655Z"
    },
    "papermill": {
     "duration": 1.370126,
     "end_time": "2023-11-26T00:02:07.393204",
     "exception": false,
     "start_time": "2023-11-26T00:02:06.023078",
     "status": "completed"
    },
    "tags": []
   },
   "outputs": [],
   "source": [
    "df['Title'].value_counts()\n",
    "df = df[df.groupby(\"Title\")['Title'].transform(\"size\") > 20]\n",
    "df = df.head(30000)"
   ]
  },
  {
   "cell_type": "code",
   "execution_count": 4,
   "id": "71983ebd",
   "metadata": {
    "execution": {
     "iopub.execute_input": "2023-11-26T00:02:07.405090Z",
     "iopub.status.busy": "2023-11-26T00:02:07.404696Z",
     "iopub.status.idle": "2023-11-26T00:02:07.545867Z",
     "shell.execute_reply": "2023-11-26T00:02:07.543389Z"
    },
    "papermill": {
     "duration": 0.150632,
     "end_time": "2023-11-26T00:02:07.549048",
     "exception": false,
     "start_time": "2023-11-26T00:02:07.398416",
     "status": "completed"
    },
    "tags": []
   },
   "outputs": [
    {
     "data": {
      "text/html": [
       "<div>\n",
       "<style scoped>\n",
       "    .dataframe tbody tr th:only-of-type {\n",
       "        vertical-align: middle;\n",
       "    }\n",
       "\n",
       "    .dataframe tbody tr th {\n",
       "        vertical-align: top;\n",
       "    }\n",
       "\n",
       "    .dataframe thead th {\n",
       "        text-align: right;\n",
       "    }\n",
       "</style>\n",
       "<table border=\"1\" class=\"dataframe\">\n",
       "  <thead>\n",
       "    <tr style=\"text-align: right;\">\n",
       "      <th></th>\n",
       "      <th>Id</th>\n",
       "      <th>Title</th>\n",
       "      <th>review/score</th>\n",
       "      <th>review/text</th>\n",
       "    </tr>\n",
       "  </thead>\n",
       "  <tbody>\n",
       "    <tr>\n",
       "      <th>14</th>\n",
       "      <td>0595344550</td>\n",
       "      <td>Whispers of the Wicked Saints</td>\n",
       "      <td>1.0</td>\n",
       "      <td>I bought this book because I read some glowing praise on an online library site. Unfortunately, I was deeply disappointed by page three. I always buy books in the hope and expectation of having an enjoyable read, not to criticise. Howev...</td>\n",
       "    </tr>\n",
       "    <tr>\n",
       "      <th>15</th>\n",
       "      <td>0595344550</td>\n",
       "      <td>Whispers of the Wicked Saints</td>\n",
       "      <td>4.0</td>\n",
       "      <td>I have to admit, I am not one to write reviews on book. I do however like to read them. Some of the reviews are great, some are cruel, but the reviews on this book were absolutlely hysterical. I read this book and after watching the war...</td>\n",
       "    </tr>\n",
       "    <tr>\n",
       "      <th>16</th>\n",
       "      <td>0595344550</td>\n",
       "      <td>Whispers of the Wicked Saints</td>\n",
       "      <td>1.0</td>\n",
       "      <td>This is a self-published book, and if you want to know why--read a few paragraphs! Those 5 star reviews must have been written by Ms. Haddon's family and friends--or perhaps, by herself! I can't imagine anyone reading the whole thing--I...</td>\n",
       "    </tr>\n",
       "    <tr>\n",
       "      <th>17</th>\n",
       "      <td>0595344550</td>\n",
       "      <td>Whispers of the Wicked Saints</td>\n",
       "      <td>5.0</td>\n",
       "      <td>When I first read this the I was mezmerized at the style of writting. I soon became so hooked on this book that I wanted to fall on my knees and shut out the rest of the world. Haddon delivers a portrayal of a woman that is hurt loney a...</td>\n",
       "    </tr>\n",
       "    <tr>\n",
       "      <th>18</th>\n",
       "      <td>0595344550</td>\n",
       "      <td>Whispers of the Wicked Saints</td>\n",
       "      <td>5.0</td>\n",
       "      <td>I read the review directly under mine and I have to say I laughed. How can someone write a honest review on a book they read only three pages of? That was funny but also sad that people are mean enough to keep others from an enjoyable r...</td>\n",
       "    </tr>\n",
       "  </tbody>\n",
       "</table>\n",
       "</div>"
      ],
      "text/plain": [
       "            Id                          Title  review/score  \\\n",
       "14  0595344550  Whispers of the Wicked Saints           1.0   \n",
       "15  0595344550  Whispers of the Wicked Saints           4.0   \n",
       "16  0595344550  Whispers of the Wicked Saints           1.0   \n",
       "17  0595344550  Whispers of the Wicked Saints           5.0   \n",
       "18  0595344550  Whispers of the Wicked Saints           5.0   \n",
       "\n",
       "                                                                                                                                                                                                                                        review/text  \n",
       "14  I bought this book because I read some glowing praise on an online library site. Unfortunately, I was deeply disappointed by page three. I always buy books in the hope and expectation of having an enjoyable read, not to criticise. Howev...  \n",
       "15  I have to admit, I am not one to write reviews on book. I do however like to read them. Some of the reviews are great, some are cruel, but the reviews on this book were absolutlely hysterical. I read this book and after watching the war...  \n",
       "16  This is a self-published book, and if you want to know why--read a few paragraphs! Those 5 star reviews must have been written by Ms. Haddon's family and friends--or perhaps, by herself! I can't imagine anyone reading the whole thing--I...  \n",
       "17  When I first read this the I was mezmerized at the style of writting. I soon became so hooked on this book that I wanted to fall on my knees and shut out the rest of the world. Haddon delivers a portrayal of a woman that is hurt loney a...  \n",
       "18  I read the review directly under mine and I have to say I laughed. How can someone write a honest review on a book they read only three pages of? That was funny but also sad that people are mean enough to keep others from an enjoyable r...  "
      ]
     },
     "execution_count": 4,
     "metadata": {},
     "output_type": "execute_result"
    }
   ],
   "source": [
    "columns_to_keep = ['Id','Title','review/score','review/text']\n",
    "df = df[columns_to_keep]\n",
    "df.head()"
   ]
  },
  {
   "cell_type": "markdown",
   "id": "02e01444",
   "metadata": {
    "papermill": {
     "duration": 0.005107,
     "end_time": "2023-11-26T00:02:07.560850",
     "exception": false,
     "start_time": "2023-11-26T00:02:07.555743",
     "status": "completed"
    },
    "tags": []
   },
   "source": [
    "In this section we will clean the data ensuring reviews are in a string format.  I will also lowercase all words and remove punctuation and stopwords"
   ]
  },
  {
   "cell_type": "code",
   "execution_count": 5,
   "id": "50fb5248",
   "metadata": {
    "execution": {
     "iopub.execute_input": "2023-11-26T00:02:07.574639Z",
     "iopub.status.busy": "2023-11-26T00:02:07.572935Z",
     "iopub.status.idle": "2023-11-26T00:02:15.662885Z",
     "shell.execute_reply": "2023-11-26T00:02:15.661243Z"
    },
    "papermill": {
     "duration": 8.099421,
     "end_time": "2023-11-26T00:02:15.665426",
     "exception": false,
     "start_time": "2023-11-26T00:02:07.566005",
     "status": "completed"
    },
    "tags": []
   },
   "outputs": [
    {
     "data": {
      "text/html": [
       "<div>\n",
       "<style scoped>\n",
       "    .dataframe tbody tr th:only-of-type {\n",
       "        vertical-align: middle;\n",
       "    }\n",
       "\n",
       "    .dataframe tbody tr th {\n",
       "        vertical-align: top;\n",
       "    }\n",
       "\n",
       "    .dataframe thead th {\n",
       "        text-align: right;\n",
       "    }\n",
       "</style>\n",
       "<table border=\"1\" class=\"dataframe\">\n",
       "  <thead>\n",
       "    <tr style=\"text-align: right;\">\n",
       "      <th></th>\n",
       "      <th>Id</th>\n",
       "      <th>Title</th>\n",
       "      <th>review/score</th>\n",
       "      <th>review/text</th>\n",
       "    </tr>\n",
       "  </thead>\n",
       "  <tbody>\n",
       "    <tr>\n",
       "      <th>14</th>\n",
       "      <td>0595344550</td>\n",
       "      <td>Whispers of the Wicked Saints</td>\n",
       "      <td>1.0</td>\n",
       "      <td>bought book read glowing praise online library site unfortunately deeply disappointed page three always buy books hope expectation enjoyable read criticise however book urgent need good editing though quite possibly editing alone wouldn...</td>\n",
       "    </tr>\n",
       "    <tr>\n",
       "      <th>15</th>\n",
       "      <td>0595344550</td>\n",
       "      <td>Whispers of the Wicked Saints</td>\n",
       "      <td>4.0</td>\n",
       "      <td>admit one write reviews book however like read reviews great cruel reviews book absolutlely hysterical read book watching war words couldnt help jump good side book loved kept intersted bad side say typo featured back cover secret likin...</td>\n",
       "    </tr>\n",
       "    <tr>\n",
       "      <th>16</th>\n",
       "      <td>0595344550</td>\n",
       "      <td>Whispers of the Wicked Saints</td>\n",
       "      <td>1.0</td>\n",
       "      <td>selfpublished book want know whyread paragraphs 5 star reviews must written ms haddons family friendsor perhaps cant imagine anyone reading whole thingi spent evening book friend hysterics reading bits pieces one another definitely bad ...</td>\n",
       "    </tr>\n",
       "    <tr>\n",
       "      <th>17</th>\n",
       "      <td>0595344550</td>\n",
       "      <td>Whispers of the Wicked Saints</td>\n",
       "      <td>5.0</td>\n",
       "      <td>first read mezmerized style writting soon became hooked book wanted fall knees shut rest world haddon delivers portrayal woman hurt loney abused think wonderful job making reader feel like character</td>\n",
       "    </tr>\n",
       "    <tr>\n",
       "      <th>18</th>\n",
       "      <td>0595344550</td>\n",
       "      <td>Whispers of the Wicked Saints</td>\n",
       "      <td>5.0</td>\n",
       "      <td>read review directly mine say laughed someone write honest review book read three pages funny also sad people mean enough keep others enjoyable read loved book thought first chapter little long read whole book loved book afair heart rig...</td>\n",
       "    </tr>\n",
       "  </tbody>\n",
       "</table>\n",
       "</div>"
      ],
      "text/plain": [
       "            Id                          Title  review/score  \\\n",
       "14  0595344550  Whispers of the Wicked Saints           1.0   \n",
       "15  0595344550  Whispers of the Wicked Saints           4.0   \n",
       "16  0595344550  Whispers of the Wicked Saints           1.0   \n",
       "17  0595344550  Whispers of the Wicked Saints           5.0   \n",
       "18  0595344550  Whispers of the Wicked Saints           5.0   \n",
       "\n",
       "                                                                                                                                                                                                                                        review/text  \n",
       "14  bought book read glowing praise online library site unfortunately deeply disappointed page three always buy books hope expectation enjoyable read criticise however book urgent need good editing though quite possibly editing alone wouldn...  \n",
       "15  admit one write reviews book however like read reviews great cruel reviews book absolutlely hysterical read book watching war words couldnt help jump good side book loved kept intersted bad side say typo featured back cover secret likin...  \n",
       "16  selfpublished book want know whyread paragraphs 5 star reviews must written ms haddons family friendsor perhaps cant imagine anyone reading whole thingi spent evening book friend hysterics reading bits pieces one another definitely bad ...  \n",
       "17                                           first read mezmerized style writting soon became hooked book wanted fall knees shut rest world haddon delivers portrayal woman hurt loney abused think wonderful job making reader feel like character  \n",
       "18  read review directly mine say laughed someone write honest review book read three pages funny also sad people mean enough keep others enjoyable read loved book thought first chapter little long read whole book loved book afair heart rig...  "
      ]
     },
     "execution_count": 5,
     "metadata": {},
     "output_type": "execute_result"
    }
   ],
   "source": [
    "df['review/text'] = df['review/text'].astype(str)\n",
    "df = df[~df['review/text'].isnull()]\n",
    "len(df)\n",
    "\n",
    "df['review/text'] = df['review/text'].apply(lambda x: \" \".join(x.lower() for x in x.split()))\n",
    "\n",
    "def remove_punctuation(text):\n",
    "    return re.sub(r'[^\\w\\s]', '', text)\n",
    "\n",
    "df['review/text'] = df['review/text'].apply(remove_punctuation)\n",
    "\n",
    "stop = stopwords.words('english')\n",
    "df['review/text'] = df['review/text'].apply(lambda x: \" \".join(x for x in x.split() if x not in stop))\n",
    "\n",
    "df.head()"
   ]
  },
  {
   "cell_type": "markdown",
   "id": "f8c5d136",
   "metadata": {
    "papermill": {
     "duration": 0.008467,
     "end_time": "2023-11-26T00:02:15.681084",
     "exception": false,
     "start_time": "2023-11-26T00:02:15.672617",
     "status": "completed"
    },
    "tags": []
   },
   "source": [
    "Here, we will categorize the ratings into positive, neutral or negative sentiments using the review/score column."
   ]
  },
  {
   "cell_type": "code",
   "execution_count": 6,
   "id": "878dc7b9",
   "metadata": {
    "execution": {
     "iopub.execute_input": "2023-11-26T00:02:15.694615Z",
     "iopub.status.busy": "2023-11-26T00:02:15.694186Z",
     "iopub.status.idle": "2023-11-26T00:02:15.723667Z",
     "shell.execute_reply": "2023-11-26T00:02:15.722666Z"
    },
    "papermill": {
     "duration": 0.038507,
     "end_time": "2023-11-26T00:02:15.725554",
     "exception": false,
     "start_time": "2023-11-26T00:02:15.687047",
     "status": "completed"
    },
    "tags": []
   },
   "outputs": [
    {
     "data": {
      "text/html": [
       "<div>\n",
       "<style scoped>\n",
       "    .dataframe tbody tr th:only-of-type {\n",
       "        vertical-align: middle;\n",
       "    }\n",
       "\n",
       "    .dataframe tbody tr th {\n",
       "        vertical-align: top;\n",
       "    }\n",
       "\n",
       "    .dataframe thead th {\n",
       "        text-align: right;\n",
       "    }\n",
       "</style>\n",
       "<table border=\"1\" class=\"dataframe\">\n",
       "  <thead>\n",
       "    <tr style=\"text-align: right;\">\n",
       "      <th></th>\n",
       "      <th>Id</th>\n",
       "      <th>Title</th>\n",
       "      <th>review/score</th>\n",
       "      <th>review/text</th>\n",
       "      <th>sentiment</th>\n",
       "    </tr>\n",
       "  </thead>\n",
       "  <tbody>\n",
       "    <tr>\n",
       "      <th>14</th>\n",
       "      <td>0595344550</td>\n",
       "      <td>Whispers of the Wicked Saints</td>\n",
       "      <td>1.0</td>\n",
       "      <td>bought book read glowing praise online library site unfortunately deeply disappointed page three always buy books hope expectation enjoyable read criticise however book urgent need good editing though quite possibly editing alone wouldn...</td>\n",
       "      <td>negative</td>\n",
       "    </tr>\n",
       "    <tr>\n",
       "      <th>15</th>\n",
       "      <td>0595344550</td>\n",
       "      <td>Whispers of the Wicked Saints</td>\n",
       "      <td>4.0</td>\n",
       "      <td>admit one write reviews book however like read reviews great cruel reviews book absolutlely hysterical read book watching war words couldnt help jump good side book loved kept intersted bad side say typo featured back cover secret likin...</td>\n",
       "      <td>positive</td>\n",
       "    </tr>\n",
       "    <tr>\n",
       "      <th>16</th>\n",
       "      <td>0595344550</td>\n",
       "      <td>Whispers of the Wicked Saints</td>\n",
       "      <td>1.0</td>\n",
       "      <td>selfpublished book want know whyread paragraphs 5 star reviews must written ms haddons family friendsor perhaps cant imagine anyone reading whole thingi spent evening book friend hysterics reading bits pieces one another definitely bad ...</td>\n",
       "      <td>negative</td>\n",
       "    </tr>\n",
       "    <tr>\n",
       "      <th>17</th>\n",
       "      <td>0595344550</td>\n",
       "      <td>Whispers of the Wicked Saints</td>\n",
       "      <td>5.0</td>\n",
       "      <td>first read mezmerized style writting soon became hooked book wanted fall knees shut rest world haddon delivers portrayal woman hurt loney abused think wonderful job making reader feel like character</td>\n",
       "      <td>positive</td>\n",
       "    </tr>\n",
       "    <tr>\n",
       "      <th>18</th>\n",
       "      <td>0595344550</td>\n",
       "      <td>Whispers of the Wicked Saints</td>\n",
       "      <td>5.0</td>\n",
       "      <td>read review directly mine say laughed someone write honest review book read three pages funny also sad people mean enough keep others enjoyable read loved book thought first chapter little long read whole book loved book afair heart rig...</td>\n",
       "      <td>positive</td>\n",
       "    </tr>\n",
       "  </tbody>\n",
       "</table>\n",
       "</div>"
      ],
      "text/plain": [
       "            Id                          Title  review/score  \\\n",
       "14  0595344550  Whispers of the Wicked Saints           1.0   \n",
       "15  0595344550  Whispers of the Wicked Saints           4.0   \n",
       "16  0595344550  Whispers of the Wicked Saints           1.0   \n",
       "17  0595344550  Whispers of the Wicked Saints           5.0   \n",
       "18  0595344550  Whispers of the Wicked Saints           5.0   \n",
       "\n",
       "                                                                                                                                                                                                                                        review/text  \\\n",
       "14  bought book read glowing praise online library site unfortunately deeply disappointed page three always buy books hope expectation enjoyable read criticise however book urgent need good editing though quite possibly editing alone wouldn...   \n",
       "15  admit one write reviews book however like read reviews great cruel reviews book absolutlely hysterical read book watching war words couldnt help jump good side book loved kept intersted bad side say typo featured back cover secret likin...   \n",
       "16  selfpublished book want know whyread paragraphs 5 star reviews must written ms haddons family friendsor perhaps cant imagine anyone reading whole thingi spent evening book friend hysterics reading bits pieces one another definitely bad ...   \n",
       "17                                           first read mezmerized style writting soon became hooked book wanted fall knees shut rest world haddon delivers portrayal woman hurt loney abused think wonderful job making reader feel like character   \n",
       "18  read review directly mine say laughed someone write honest review book read three pages funny also sad people mean enough keep others enjoyable read loved book thought first chapter little long read whole book loved book afair heart rig...   \n",
       "\n",
       "   sentiment  \n",
       "14  negative  \n",
       "15  positive  \n",
       "16  negative  \n",
       "17  positive  \n",
       "18  positive  "
      ]
     },
     "execution_count": 6,
     "metadata": {},
     "output_type": "execute_result"
    }
   ],
   "source": [
    "def categorize_rating(rating):\n",
    "    if rating >= 4:\n",
    "        return 'positive'\n",
    "    elif rating <= 2:\n",
    "        return 'negative'\n",
    "    else:\n",
    "        return 'neutral'\n",
    "df['sentiment'] = df['review/score'].apply(categorize_rating)\n",
    "\n",
    "df.head()"
   ]
  },
  {
   "cell_type": "code",
   "execution_count": 7,
   "id": "68f5eda2",
   "metadata": {
    "execution": {
     "iopub.execute_input": "2023-11-26T00:02:15.740321Z",
     "iopub.status.busy": "2023-11-26T00:02:15.739523Z",
     "iopub.status.idle": "2023-11-26T00:02:15.752229Z",
     "shell.execute_reply": "2023-11-26T00:02:15.749653Z"
    },
    "papermill": {
     "duration": 0.024057,
     "end_time": "2023-11-26T00:02:15.755568",
     "exception": false,
     "start_time": "2023-11-26T00:02:15.731511",
     "status": "completed"
    },
    "tags": []
   },
   "outputs": [
    {
     "data": {
      "text/plain": [
       "sentiment\n",
       "positive    0.799967\n",
       "negative    0.117233\n",
       "neutral     0.082800\n",
       "Name: proportion, dtype: float64"
      ]
     },
     "execution_count": 7,
     "metadata": {},
     "output_type": "execute_result"
    }
   ],
   "source": [
    "df.sentiment.value_counts(normalize=True)"
   ]
  },
  {
   "cell_type": "code",
   "execution_count": 8,
   "id": "51257abe",
   "metadata": {
    "execution": {
     "iopub.execute_input": "2023-11-26T00:02:15.770373Z",
     "iopub.status.busy": "2023-11-26T00:02:15.769839Z",
     "iopub.status.idle": "2023-11-26T00:02:15.785817Z",
     "shell.execute_reply": "2023-11-26T00:02:15.783734Z"
    },
    "papermill": {
     "duration": 0.027715,
     "end_time": "2023-11-26T00:02:15.789548",
     "exception": false,
     "start_time": "2023-11-26T00:02:15.761833",
     "status": "completed"
    },
    "tags": []
   },
   "outputs": [],
   "source": [
    "X = df['review/text'].copy()\n",
    "y = df['sentiment'].copy()\n",
    "\n",
    "X_train_raw, X_val_raw, y_train, y_val = train_test_split(X, y, test_size=0.20, random_state=42)"
   ]
  },
  {
   "cell_type": "code",
   "execution_count": 9,
   "id": "ca8ff5c6",
   "metadata": {
    "execution": {
     "iopub.execute_input": "2023-11-26T00:02:15.803852Z",
     "iopub.status.busy": "2023-11-26T00:02:15.803402Z",
     "iopub.status.idle": "2023-11-26T00:02:21.044540Z",
     "shell.execute_reply": "2023-11-26T00:02:21.043581Z"
    },
    "papermill": {
     "duration": 5.251347,
     "end_time": "2023-11-26T00:02:21.047199",
     "exception": false,
     "start_time": "2023-11-26T00:02:15.795852",
     "status": "completed"
    },
    "tags": []
   },
   "outputs": [
    {
     "name": "stdout",
     "output_type": "stream",
     "text": [
      "X_train.shape = (24000, 98485)\n"
     ]
    },
    {
     "data": {
      "text/plain": [
       "numpy.ndarray"
      ]
     },
     "execution_count": 9,
     "metadata": {},
     "output_type": "execute_result"
    }
   ],
   "source": [
    "tfidf_vectorizer = TfidfVectorizer()\n",
    "X_train = tfidf_vectorizer.fit_transform(X_train_raw).toarray()\n",
    "X_val = tfidf_vectorizer.transform(X_val_raw).toarray()\n",
    "print(f\"X_train.shape = {X_train.shape}\")\n",
    "type(X_train)"
   ]
  },
  {
   "cell_type": "code",
   "execution_count": 10,
   "id": "0153f6e5",
   "metadata": {
    "execution": {
     "iopub.execute_input": "2023-11-26T00:02:21.062375Z",
     "iopub.status.busy": "2023-11-26T00:02:21.061932Z",
     "iopub.status.idle": "2023-11-26T00:07:42.549132Z",
     "shell.execute_reply": "2023-11-26T00:07:42.547261Z"
    },
    "papermill": {
     "duration": 321.500006,
     "end_time": "2023-11-26T00:07:42.553736",
     "exception": false,
     "start_time": "2023-11-26T00:02:21.053730",
     "status": "completed"
    },
    "tags": []
   },
   "outputs": [],
   "source": [
    "model = RandomForestClassifier(n_estimators=25)\n",
    "model = model.fit(X_train, y_train)"
   ]
  },
  {
   "cell_type": "code",
   "execution_count": 11,
   "id": "16dc59df",
   "metadata": {
    "execution": {
     "iopub.execute_input": "2023-11-26T00:07:42.572907Z",
     "iopub.status.busy": "2023-11-26T00:07:42.572299Z",
     "iopub.status.idle": "2023-11-26T00:08:01.042263Z",
     "shell.execute_reply": "2023-11-26T00:08:01.040393Z"
    },
    "papermill": {
     "duration": 18.483902,
     "end_time": "2023-11-26T00:08:01.046037",
     "exception": false,
     "start_time": "2023-11-26T00:07:42.562135",
     "status": "completed"
    },
    "tags": []
   },
   "outputs": [
    {
     "data": {
      "text/html": [
       "<style>#sk-container-id-1 {color: black;background-color: white;}#sk-container-id-1 pre{padding: 0;}#sk-container-id-1 div.sk-toggleable {background-color: white;}#sk-container-id-1 label.sk-toggleable__label {cursor: pointer;display: block;width: 100%;margin-bottom: 0;padding: 0.3em;box-sizing: border-box;text-align: center;}#sk-container-id-1 label.sk-toggleable__label-arrow:before {content: \"▸\";float: left;margin-right: 0.25em;color: #696969;}#sk-container-id-1 label.sk-toggleable__label-arrow:hover:before {color: black;}#sk-container-id-1 div.sk-estimator:hover label.sk-toggleable__label-arrow:before {color: black;}#sk-container-id-1 div.sk-toggleable__content {max-height: 0;max-width: 0;overflow: hidden;text-align: left;background-color: #f0f8ff;}#sk-container-id-1 div.sk-toggleable__content pre {margin: 0.2em;color: black;border-radius: 0.25em;background-color: #f0f8ff;}#sk-container-id-1 input.sk-toggleable__control:checked~div.sk-toggleable__content {max-height: 200px;max-width: 100%;overflow: auto;}#sk-container-id-1 input.sk-toggleable__control:checked~label.sk-toggleable__label-arrow:before {content: \"▾\";}#sk-container-id-1 div.sk-estimator input.sk-toggleable__control:checked~label.sk-toggleable__label {background-color: #d4ebff;}#sk-container-id-1 div.sk-label input.sk-toggleable__control:checked~label.sk-toggleable__label {background-color: #d4ebff;}#sk-container-id-1 input.sk-hidden--visually {border: 0;clip: rect(1px 1px 1px 1px);clip: rect(1px, 1px, 1px, 1px);height: 1px;margin: -1px;overflow: hidden;padding: 0;position: absolute;width: 1px;}#sk-container-id-1 div.sk-estimator {font-family: monospace;background-color: #f0f8ff;border: 1px dotted black;border-radius: 0.25em;box-sizing: border-box;margin-bottom: 0.5em;}#sk-container-id-1 div.sk-estimator:hover {background-color: #d4ebff;}#sk-container-id-1 div.sk-parallel-item::after {content: \"\";width: 100%;border-bottom: 1px solid gray;flex-grow: 1;}#sk-container-id-1 div.sk-label:hover label.sk-toggleable__label {background-color: #d4ebff;}#sk-container-id-1 div.sk-serial::before {content: \"\";position: absolute;border-left: 1px solid gray;box-sizing: border-box;top: 0;bottom: 0;left: 50%;z-index: 0;}#sk-container-id-1 div.sk-serial {display: flex;flex-direction: column;align-items: center;background-color: white;padding-right: 0.2em;padding-left: 0.2em;position: relative;}#sk-container-id-1 div.sk-item {position: relative;z-index: 1;}#sk-container-id-1 div.sk-parallel {display: flex;align-items: stretch;justify-content: center;background-color: white;position: relative;}#sk-container-id-1 div.sk-item::before, #sk-container-id-1 div.sk-parallel-item::before {content: \"\";position: absolute;border-left: 1px solid gray;box-sizing: border-box;top: 0;bottom: 0;left: 50%;z-index: -1;}#sk-container-id-1 div.sk-parallel-item {display: flex;flex-direction: column;z-index: 1;position: relative;background-color: white;}#sk-container-id-1 div.sk-parallel-item:first-child::after {align-self: flex-end;width: 50%;}#sk-container-id-1 div.sk-parallel-item:last-child::after {align-self: flex-start;width: 50%;}#sk-container-id-1 div.sk-parallel-item:only-child::after {width: 0;}#sk-container-id-1 div.sk-dashed-wrapped {border: 1px dashed gray;margin: 0 0.4em 0.5em 0.4em;box-sizing: border-box;padding-bottom: 0.4em;background-color: white;}#sk-container-id-1 div.sk-label label {font-family: monospace;font-weight: bold;display: inline-block;line-height: 1.2em;}#sk-container-id-1 div.sk-label-container {text-align: center;}#sk-container-id-1 div.sk-container {/* jupyter's `normalize.less` sets `[hidden] { display: none; }` but bootstrap.min.css set `[hidden] { display: none !important; }` so we also need the `!important` here to be able to override the default hidden behavior on the sphinx rendered scikit-learn.org. See: https://github.com/scikit-learn/scikit-learn/issues/21755 */display: inline-block !important;position: relative;}#sk-container-id-1 div.sk-text-repr-fallback {display: none;}</style><div id=\"sk-container-id-1\" class=\"sk-top-container\"><div class=\"sk-text-repr-fallback\"><pre>RandomForestClassifier(n_estimators=25)</pre><b>In a Jupyter environment, please rerun this cell to show the HTML representation or trust the notebook. <br />On GitHub, the HTML representation is unable to render, please try loading this page with nbviewer.org.</b></div><div class=\"sk-container\" hidden><div class=\"sk-item\"><div class=\"sk-estimator sk-toggleable\"><input class=\"sk-toggleable__control sk-hidden--visually\" id=\"sk-estimator-id-1\" type=\"checkbox\" checked><label for=\"sk-estimator-id-1\" class=\"sk-toggleable__label sk-toggleable__label-arrow\">RandomForestClassifier</label><div class=\"sk-toggleable__content\"><pre>RandomForestClassifier(n_estimators=25)</pre></div></div></div></div></div>"
      ],
      "text/plain": [
       "RandomForestClassifier(n_estimators=25)"
      ]
     },
     "execution_count": 11,
     "metadata": {},
     "output_type": "execute_result"
    }
   ],
   "source": [
    "sums = np.sum(X_train, axis=0)\n",
    "sorted_indices = np.argsort(sums)[::-1]\n",
    "N = 1000\n",
    "top_n_indices = sorted_indices[:N]\n",
    "\n",
    "feature_names = np.array(tfidf_vectorizer.get_feature_names_out())\n",
    "top_n_feature_names = feature_names[top_n_indices]\n",
    "\n",
    "tfidf_vectorizer_top_n = TfidfVectorizer(vocabulary=top_n_feature_names)\n",
    "\n",
    "X_train_reduced = tfidf_vectorizer_top_n.fit_transform(X_train_raw).toarray()\n",
    "X_val_reduced = tfidf_vectorizer_top_n.transform(X_val_raw).toarray()\n",
    "model.fit(X_train_reduced, y_train)\n"
   ]
  },
  {
   "cell_type": "code",
   "execution_count": 12,
   "id": "5a7ffeba",
   "metadata": {
    "execution": {
     "iopub.execute_input": "2023-11-26T00:08:01.067275Z",
     "iopub.status.busy": "2023-11-26T00:08:01.066700Z",
     "iopub.status.idle": "2023-11-26T00:08:02.102851Z",
     "shell.execute_reply": "2023-11-26T00:08:02.101209Z"
    },
    "papermill": {
     "duration": 1.05004,
     "end_time": "2023-11-26T00:08:02.105378",
     "exception": false,
     "start_time": "2023-11-26T00:08:01.055338",
     "status": "completed"
    },
    "tags": []
   },
   "outputs": [
    {
     "name": "stdout",
     "output_type": "stream",
     "text": [
      "accuracy (on y_train): 0.9974\n"
     ]
    },
    {
     "data": {
      "image/png": "[encoded data removed]",
      "text/plain": [
       "<Figure size 640x480 with 2 Axes>"
      ]
     },
     "metadata": {},
     "output_type": "display_data"
    }
   ],
   "source": [
    "predictions_train = model.predict(X_train_reduced)\n",
    "disp = ConfusionMatrixDisplay(confusion_matrix(y_train, predictions_train), display_labels=['negative', 'neutral', 'positive'])\n",
    "disp.plot()\n",
    "print(f\"accuracy (on y_train): {accuracy_score(y_train, predictions_train):.4f}\")"
   ]
  },
  {
   "cell_type": "code",
   "execution_count": 13,
   "id": "9b4e8b99",
   "metadata": {
    "execution": {
     "iopub.execute_input": "2023-11-26T00:08:02.122605Z",
     "iopub.status.busy": "2023-11-26T00:08:02.122137Z",
     "iopub.status.idle": "2023-11-26T00:08:02.556196Z",
     "shell.execute_reply": "2023-11-26T00:08:02.554646Z"
    },
    "papermill": {
     "duration": 0.445265,
     "end_time": "2023-11-26T00:08:02.558766",
     "exception": false,
     "start_time": "2023-11-26T00:08:02.113501",
     "status": "completed"
    },
    "tags": []
   },
   "outputs": [
    {
     "name": "stdout",
     "output_type": "stream",
     "text": [
      "accuracy (on y_val): 0.8232\n"
     ]
    },
    {
     "data": {
      "image/png": "[encoded data removed]",
      "text/plain": [
       "<Figure size 640x480 with 2 Axes>"
      ]
     },
     "metadata": {},
     "output_type": "display_data"
    }
   ],
   "source": [
    "predictions_val = model.predict(X_val_reduced)\n",
    "disp = ConfusionMatrixDisplay(confusion_matrix(y_val, predictions_val), display_labels=['negative', 'neutral', 'positive'])\n",
    "disp.plot()\n",
    "print(f\"accuracy (on y_val): {accuracy_score(y_val, predictions_val):.4f}\")"
   ]
  },
  {
   "cell_type": "code",
   "execution_count": 14,
   "id": "8230ae72",
   "metadata": {
    "execution": {
     "iopub.execute_input": "2023-11-26T00:08:02.576929Z",
     "iopub.status.busy": "2023-11-26T00:08:02.576475Z",
     "iopub.status.idle": "2023-11-26T00:16:53.826984Z",
     "shell.execute_reply": "2023-11-26T00:16:53.825427Z"
    },
    "papermill": {
     "duration": 531.263211,
     "end_time": "2023-11-26T00:16:53.830183",
     "exception": false,
     "start_time": "2023-11-26T00:08:02.566972",
     "status": "completed"
    },
    "tags": []
   },
   "outputs": [],
   "source": [
    "from sklearn.metrics import log_loss\n",
    "\n",
    "def tuneModel(hyperparam_value):\n",
    "    rf_model = RandomForestClassifier(n_estimators=hyperparam_value, random_state=5)\n",
    "    rf_model.fit(X_train_reduced, y_train)\n",
    "    y_train_pred_prob = rf_model.predict_proba(X_train_reduced)\n",
    "    y_train_pred = rf_model.predict(X_train_reduced)\n",
    "    y_val_pred_prob = rf_model.predict_proba(X_val_reduced)\n",
    "    y_val_pred = rf_model.predict(X_val_reduced)\n",
    "    train_loss = log_loss(y_train, y_train_pred_prob, labels=['negative', 'neutral', 'positive'])\n",
    "    train_acc = accuracy_score(y_train, y_train_pred)\n",
    "    val_loss = log_loss(y_val, y_val_pred_prob, labels=['negative', 'neutral', 'positive'])\n",
    "    val_acc = accuracy_score(y_val, y_val_pred)\n",
    "    return (train_loss, val_loss, train_acc, val_acc)\n",
    "\n",
    "hyp_param_vals = list(range(10,261,50)) # good values for n_estimators\n",
    "\n",
    "metrics = []\n",
    "\n",
    "for hp in hyp_param_vals:\n",
    "    metrics.append(tuneModel(hp))"
   ]
  },
  {
   "cell_type": "code",
   "execution_count": 15,
   "id": "7355f132",
   "metadata": {
    "execution": {
     "iopub.execute_input": "2023-11-26T00:16:53.848324Z",
     "iopub.status.busy": "2023-11-26T00:16:53.847783Z",
     "iopub.status.idle": "2023-11-26T00:16:54.394169Z",
     "shell.execute_reply": "2023-11-26T00:16:54.392785Z"
    },
    "papermill": {
     "duration": 0.558326,
     "end_time": "2023-11-26T00:16:54.396592",
     "exception": false,
     "start_time": "2023-11-26T00:16:53.838266",
     "status": "completed"
    },
    "tags": []
   },
   "outputs": [
    {
     "data": {
      "image/png": "[encoded data removed]",
      "text/plain": [
       "<Figure size 1600x400 with 2 Axes>"
      ]
     },
     "metadata": {},
     "output_type": "display_data"
    }
   ],
   "source": [
    "\n",
    "fig, (ax1, ax2) = plt.subplots(1, 2, figsize=(16, 4))\n",
    "\n",
    "ax1.set_xticks(hyp_param_vals)\n",
    "ax1.set(xlabel=\"n_estimators\", ylabel=\"loss (lower is better)\")\n",
    "ax1.plot(hyp_param_vals, [metric[1] for metric in metrics], '--ro') # validation loss\n",
    "ax1.plot(hyp_param_vals, [metric[0] for metric in metrics], '--bo') # training loss\n",
    "ax1.set_title(\"Model Loss vs. n_estimators\")\n",
    "ax1.grid(True)\n",
    "\n",
    "ax2.set_xticks(hyp_param_vals)\n",
    "ax2.set(xlabel=\"n_estimators\", ylabel=\"accuracy (higher is better)\")\n",
    "ax2.plot(hyp_param_vals, [metric[3] for metric in metrics], '--ro') # validation accuracy\n",
    "ax2.plot(hyp_param_vals, [metric[2] for metric in metrics], '--bo') # training accuracy\n",
    "ax2.set_title(\"Model Accuracy vs. n_estimators\")\n",
    "ax2.grid(True)\n",
    "    \n",
    "min_val_loss = min([metric[1] for metric in metrics])\n",
    "min_val_loss_index = [metric[1] for metric in metrics].index(min_val_loss)\n",
    "ax1.annotate('Lowest Validation loss', \n",
    "             xy=(hyp_param_vals[min_val_loss_index], min_val_loss),\n",
    "             xytext=(-180, 20),\n",
    "             textcoords='offset points',\n",
    "             arrowprops=dict(arrowstyle='->', color='black'))\n",
    "max_val_acc = max([metric[3] for metric in metrics])\n",
    "max_val_acc_index = [metric[3] for metric in metrics].index(max_val_acc)\n",
    "ax2.annotate(\"Highest Validation Accuracy\",\n",
    "             xy=(hyp_param_vals[max_val_acc_index], max_val_acc),\n",
    "             xytext=(-50, 20),\n",
    "             textcoords='offset points',\n",
    "             arrowprops=dict(arrowstyle='->', color='black'))\n",
    "    \n",
    "ax1.legend([\"Validation Loss\", \"Train Loss\"], loc=1)\n",
    "ax2.legend([\"Validation Accuracy\", \"Train Accuracy\"], loc=1)\n",
    "    \n",
    "plt.show()"
   ]
  },
  {
   "cell_type": "code",
   "execution_count": 16,
   "id": "bacd74b1",
   "metadata": {
    "execution": {
     "iopub.execute_input": "2023-11-26T00:16:54.418469Z",
     "iopub.status.busy": "2023-11-26T00:16:54.417883Z",
     "iopub.status.idle": "2023-11-26T00:16:54.432698Z",
     "shell.execute_reply": "2023-11-26T00:16:54.431155Z"
    },
    "papermill": {
     "duration": 0.029335,
     "end_time": "2023-11-26T00:16:54.435546",
     "exception": false,
     "start_time": "2023-11-26T00:16:54.406211",
     "status": "completed"
    },
    "tags": []
   },
   "outputs": [
    {
     "name": "stdout",
     "output_type": "stream",
     "text": [
      "   hyperparam  test_loss  test_acc\n",
      "0          10   2.112629  0.817500\n",
      "1          60   0.585058  0.821333\n",
      "2         110   0.530719  0.821833\n",
      "3         160   0.506920  0.822167\n",
      "4         210   0.506445  0.822000\n",
      "5         260   0.501357  0.822167\n"
     ]
    }
   ],
   "source": [
    "tuning_results = np.array([hyp_param_vals, [round(metric[1],2) for metric in metrics], [round(metric[3],2) for metric in metrics]])\n",
    "df_tuning_results = pd.DataFrame({'hyperparam':hyp_param_vals, 'test_loss':[metric[1] for metric in metrics], 'test_acc':[metric[3] for metric in metrics]})\n",
    "print(df_tuning_results)"
   ]
  }
 ],
 "metadata": {
  "kaggle": {
   "accelerator": "none",
   "dataSources": [
    {
     "datasetId": 2476732,
     "sourceId": 4200454,
     "sourceType": "datasetVersion"
    }
   ],
   "dockerImageVersionId": 30588,
   "isGpuEnabled": false,
   "isInternetEnabled": true,
   "language": "python",
   "sourceType": "notebook"
  },
  "kernelspec": {
   "display_name": "Python 3",
   "language": "python",
   "name": "python3"
  },
  "language_info": {
   "codemirror_mode": {
    "name": "ipython",
    "version": 3
   },
   "file_extension": ".py",
   "mimetype": "text/x-python",
   "name": "python",
   "nbconvert_exporter": "python",
   "pygments_lexer": "ipython3",
   "version": "3.10.12"
  },
  "papermill": {
   "default_parameters": {},
   "duration": 956.879992,
   "end_time": "2023-11-26T00:16:57.174308",
   "environment_variables": {},
   "exception": null,
   "input_path": "__notebook__.ipynb",
   "output_path": "__notebook__.ipynb",
   "parameters": {},
   "start_time": "2023-11-26T00:01:00.294316",
   "version": "2.4.0"
  }
 },
 "nbformat": 4,
 "nbformat_minor": 5
}
