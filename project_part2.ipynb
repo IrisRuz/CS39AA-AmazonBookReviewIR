{
 "cells": [
  {
   "cell_type": "markdown",
   "id": "d3840880",
   "metadata": {
    "papermill": {
     "duration": 0.007984,
     "end_time": "2023-11-26T03:17:13.829794",
     "exception": false,
     "start_time": "2023-11-26T03:17:13.821810",
     "status": "completed"
    },
    "tags": []
   },
   "source": [
    "# Project Part 2\n",
    "\n",
    "[![Kaggle](https://kaggle.com/static/images/open-in-kaggle.svg)](https://www.kaggle.com/code/irisruz/notebooked49988da3/edit)\n"
   ]
  },
  {
   "cell_type": "code",
   "execution_count": 1,
   "id": "3dd99af3",
   "metadata": {
    "_cell_guid": "b1076dfc-b9ad-4769-8c92-a6c4dae69d19",
    "_uuid": "8f2839f25d086af736a60e9eeb907d3b93b6e0e5",
    "execution": {
     "iopub.execute_input": "2023-11-26T03:17:13.842564Z",
     "iopub.status.busy": "2023-11-26T03:17:13.842238Z",
     "iopub.status.idle": "2023-11-26T03:17:16.697034Z",
     "shell.execute_reply": "2023-11-26T03:17:16.695636Z"
    },
    "papermill": {
     "duration": 2.864055,
     "end_time": "2023-11-26T03:17:16.699389",
     "exception": false,
     "start_time": "2023-11-26T03:17:13.835334",
     "status": "completed"
    },
    "tags": []
   },
   "outputs": [
    {
     "name": "stdout",
     "output_type": "stream",
     "text": [
      "[nltk_data] Downloading package stopwords to /usr/share/nltk_data...\n",
      "[nltk_data]   Package stopwords is already up-to-date!\n",
      "[nltk_data] Downloading package punkt to /usr/share/nltk_data...\n",
      "[nltk_data]   Package punkt is already up-to-date!\n",
      "/kaggle/input/amazon-books-reviews/books_data.csv\n",
      "/kaggle/input/amazon-books-reviews/Books_rating.csv\n"
     ]
    }
   ],
   "source": [
    "import pandas as pd\n",
    "import numpy as np\n",
    "import nltk\n",
    "from nltk.corpus import stopwords\n",
    "nltk.download('stopwords')\n",
    "from nltk.tokenize import word_tokenize\n",
    "nltk.download('punkt')\n",
    "\n",
    "import string\n",
    "from textblob import TextBlob\n",
    "from textblob import Word\n",
    "import matplotlib.pyplot as plt\n",
    "import seaborn as sns\n",
    "from sklearn.model_selection import train_test_split, GridSearchCV\n",
    "from sklearn.feature_extraction.text import TfidfVectorizer\n",
    "from sklearn.ensemble import RandomForestClassifier\n",
    "from sklearn.metrics import confusion_matrix, ConfusionMatrixDisplay, accuracy_score\n",
    "\n",
    "import re\n",
    "\n",
    "import os\n",
    "for dirname, _, filenames in os.walk('/kaggle/input'):\n",
    "    for filename in filenames:\n",
    "        print(os.path.join(dirname, filename))\n"
   ]
  },
  {
   "cell_type": "code",
   "execution_count": 2,
   "id": "54e620e5",
   "metadata": {
    "execution": {
     "iopub.execute_input": "2023-11-26T03:17:16.712636Z",
     "iopub.status.busy": "2023-11-26T03:17:16.712148Z",
     "iopub.status.idle": "2023-11-26T03:18:07.469564Z",
     "shell.execute_reply": "2023-11-26T03:18:07.468463Z"
    },
    "papermill": {
     "duration": 50.77115,
     "end_time": "2023-11-26T03:18:07.476353",
     "exception": false,
     "start_time": "2023-11-26T03:17:16.705203",
     "status": "completed"
    },
    "tags": []
   },
   "outputs": [
    {
     "name": "stdout",
     "output_type": "stream",
     "text": [
      "df.shape: (3000000, 10)\n"
     ]
    },
    {
     "data": {
      "text/html": [
       "<div>\n",
       "<style scoped>\n",
       "    .dataframe tbody tr th:only-of-type {\n",
       "        vertical-align: middle;\n",
       "    }\n",
       "\n",
       "    .dataframe tbody tr th {\n",
       "        vertical-align: top;\n",
       "    }\n",
       "\n",
       "    .dataframe thead th {\n",
       "        text-align: right;\n",
       "    }\n",
       "</style>\n",
       "<table border=\"1\" class=\"dataframe\">\n",
       "  <thead>\n",
       "    <tr style=\"text-align: right;\">\n",
       "      <th></th>\n",
       "      <th>Id</th>\n",
       "      <th>Title</th>\n",
       "      <th>Price</th>\n",
       "      <th>User_id</th>\n",
       "      <th>profileName</th>\n",
       "      <th>review/helpfulness</th>\n",
       "      <th>review/score</th>\n",
       "      <th>review/time</th>\n",
       "      <th>review/summary</th>\n",
       "      <th>review/text</th>\n",
       "    </tr>\n",
       "  </thead>\n",
       "  <tbody>\n",
       "    <tr>\n",
       "      <th>0</th>\n",
       "      <td>1882931173</td>\n",
       "      <td>Its Only Art If Its Well Hung!</td>\n",
       "      <td>NaN</td>\n",
       "      <td>AVCGYZL8FQQTD</td>\n",
       "      <td>Jim of Oz \"jim-of-oz\"</td>\n",
       "      <td>7/7</td>\n",
       "      <td>4.0</td>\n",
       "      <td>940636800</td>\n",
       "      <td>Nice collection of Julie Strain images</td>\n",
       "      <td>This is only for Julie Strain fans. It's a collection of her photos -- about 80 pages worth with a nice section of paintings by Olivia.If you're looking for heavy literary content, this isn't the place to find it -- there's only about 2...</td>\n",
       "    </tr>\n",
       "    <tr>\n",
       "      <th>1</th>\n",
       "      <td>0826414346</td>\n",
       "      <td>Dr. Seuss: American Icon</td>\n",
       "      <td>NaN</td>\n",
       "      <td>A30TK6U7DNS82R</td>\n",
       "      <td>Kevin Killian</td>\n",
       "      <td>10/10</td>\n",
       "      <td>5.0</td>\n",
       "      <td>1095724800</td>\n",
       "      <td>Really Enjoyed It</td>\n",
       "      <td>I don't care much for Dr. Seuss but after reading Philip Nel's book I changed my mind--that's a good testimonial to the power of Rel's writing and thinking. Rel plays Dr. Seuss the ultimate compliment of treating him as a serious poet a...</td>\n",
       "    </tr>\n",
       "    <tr>\n",
       "      <th>2</th>\n",
       "      <td>0826414346</td>\n",
       "      <td>Dr. Seuss: American Icon</td>\n",
       "      <td>NaN</td>\n",
       "      <td>A3UH4UZ4RSVO82</td>\n",
       "      <td>John Granger</td>\n",
       "      <td>10/11</td>\n",
       "      <td>5.0</td>\n",
       "      <td>1078790400</td>\n",
       "      <td>Essential for every personal and Public Library</td>\n",
       "      <td>If people become the books they read and if \"the child is father to the man,\" then Dr. Seuss (Theodor Seuss Geisel) is the most influential author, poet, and artist of modern times. For me, a daddy to a large family who learned to read ...</td>\n",
       "    </tr>\n",
       "    <tr>\n",
       "      <th>3</th>\n",
       "      <td>0826414346</td>\n",
       "      <td>Dr. Seuss: American Icon</td>\n",
       "      <td>NaN</td>\n",
       "      <td>A2MVUWT453QH61</td>\n",
       "      <td>Roy E. Perry \"amateur philosopher\"</td>\n",
       "      <td>7/7</td>\n",
       "      <td>4.0</td>\n",
       "      <td>1090713600</td>\n",
       "      <td>Phlip Nel gives silly Seuss a serious treatment</td>\n",
       "      <td>Theodore Seuss Geisel (1904-1991), aka &amp;quot;Dr. Seuss,&amp;quot; was one of the most influential writers and artists of the 20th century.In 1959, Rudolf Flesch wrote, &amp;quot;A hundred years from now, children and their parents will still ea...</td>\n",
       "    </tr>\n",
       "    <tr>\n",
       "      <th>4</th>\n",
       "      <td>0826414346</td>\n",
       "      <td>Dr. Seuss: American Icon</td>\n",
       "      <td>NaN</td>\n",
       "      <td>A22X4XUPKF66MR</td>\n",
       "      <td>D. H. Richards \"ninthwavestore\"</td>\n",
       "      <td>3/3</td>\n",
       "      <td>4.0</td>\n",
       "      <td>1107993600</td>\n",
       "      <td>Good academic overview</td>\n",
       "      <td>Philip Nel - Dr. Seuss: American IconThis is basically an academic overview of Seuss poetry, art, cartoons, and the problems with the commercialization of the Seuss name and works after his death. It is not, to any real extent, a biogra...</td>\n",
       "    </tr>\n",
       "  </tbody>\n",
       "</table>\n",
       "</div>"
      ],
      "text/plain": [
       "           Id                           Title  Price         User_id  \\\n",
       "0  1882931173  Its Only Art If Its Well Hung!    NaN   AVCGYZL8FQQTD   \n",
       "1  0826414346        Dr. Seuss: American Icon    NaN  A30TK6U7DNS82R   \n",
       "2  0826414346        Dr. Seuss: American Icon    NaN  A3UH4UZ4RSVO82   \n",
       "3  0826414346        Dr. Seuss: American Icon    NaN  A2MVUWT453QH61   \n",
       "4  0826414346        Dr. Seuss: American Icon    NaN  A22X4XUPKF66MR   \n",
       "\n",
       "                          profileName review/helpfulness  review/score  \\\n",
       "0               Jim of Oz \"jim-of-oz\"                7/7           4.0   \n",
       "1                       Kevin Killian              10/10           5.0   \n",
       "2                        John Granger              10/11           5.0   \n",
       "3  Roy E. Perry \"amateur philosopher\"                7/7           4.0   \n",
       "4     D. H. Richards \"ninthwavestore\"                3/3           4.0   \n",
       "\n",
       "   review/time                                   review/summary  \\\n",
       "0    940636800           Nice collection of Julie Strain images   \n",
       "1   1095724800                                Really Enjoyed It   \n",
       "2   1078790400  Essential for every personal and Public Library   \n",
       "3   1090713600  Phlip Nel gives silly Seuss a serious treatment   \n",
       "4   1107993600                           Good academic overview   \n",
       "\n",
       "                                                                                                                                                                                                                                       review/text  \n",
       "0  This is only for Julie Strain fans. It's a collection of her photos -- about 80 pages worth with a nice section of paintings by Olivia.If you're looking for heavy literary content, this isn't the place to find it -- there's only about 2...  \n",
       "1  I don't care much for Dr. Seuss but after reading Philip Nel's book I changed my mind--that's a good testimonial to the power of Rel's writing and thinking. Rel plays Dr. Seuss the ultimate compliment of treating him as a serious poet a...  \n",
       "2  If people become the books they read and if \"the child is father to the man,\" then Dr. Seuss (Theodor Seuss Geisel) is the most influential author, poet, and artist of modern times. For me, a daddy to a large family who learned to read ...  \n",
       "3  Theodore Seuss Geisel (1904-1991), aka &quot;Dr. Seuss,&quot; was one of the most influential writers and artists of the 20th century.In 1959, Rudolf Flesch wrote, &quot;A hundred years from now, children and their parents will still ea...  \n",
       "4  Philip Nel - Dr. Seuss: American IconThis is basically an academic overview of Seuss poetry, art, cartoons, and the problems with the commercialization of the Seuss name and works after his death. It is not, to any real extent, a biogra...  "
      ]
     },
     "execution_count": 2,
     "metadata": {},
     "output_type": "execute_result"
    }
   ],
   "source": [
    "dataset_path = '/kaggle/input/amazon-books-reviews/Books_rating.csv'\n",
    "df = pd.read_csv(dataset_path)\n",
    "print(f\"df.shape: {df.shape}\")\n",
    "pd.set_option(\"display.max_colwidth\", 240)\n",
    "df.head()"
   ]
  },
  {
   "cell_type": "markdown",
   "id": "4b8a118d",
   "metadata": {
    "papermill": {
     "duration": 0.005619,
     "end_time": "2023-11-26T03:18:07.487695",
     "exception": false,
     "start_time": "2023-11-26T03:18:07.482076",
     "status": "completed"
    },
    "tags": []
   },
   "source": [
    "Here we will sort the data by Title and remove any books that have less than twenty reviews."
   ]
  },
  {
   "cell_type": "code",
   "execution_count": 3,
   "id": "be082c39",
   "metadata": {
    "execution": {
     "iopub.execute_input": "2023-11-26T03:18:07.500743Z",
     "iopub.status.busy": "2023-11-26T03:18:07.500381Z",
     "iopub.status.idle": "2023-11-26T03:18:08.516010Z",
     "shell.execute_reply": "2023-11-26T03:18:08.515081Z"
    },
    "papermill": {
     "duration": 1.024834,
     "end_time": "2023-11-26T03:18:08.518293",
     "exception": false,
     "start_time": "2023-11-26T03:18:07.493459",
     "status": "completed"
    },
    "tags": []
   },
   "outputs": [],
   "source": [
    "df['Title'].value_counts()\n",
    "df = df[df.groupby(\"Title\")['Title'].transform(\"size\") > 20]\n",
    "df = df.head(40000)"
   ]
  },
  {
   "cell_type": "code",
   "execution_count": 4,
   "id": "17282775",
   "metadata": {
    "execution": {
     "iopub.execute_input": "2023-11-26T03:18:08.531822Z",
     "iopub.status.busy": "2023-11-26T03:18:08.531466Z",
     "iopub.status.idle": "2023-11-26T03:18:08.625400Z",
     "shell.execute_reply": "2023-11-26T03:18:08.624544Z"
    },
    "papermill": {
     "duration": 0.102935,
     "end_time": "2023-11-26T03:18:08.627297",
     "exception": false,
     "start_time": "2023-11-26T03:18:08.524362",
     "status": "completed"
    },
    "tags": []
   },
   "outputs": [
    {
     "data": {
      "text/html": [
       "<div>\n",
       "<style scoped>\n",
       "    .dataframe tbody tr th:only-of-type {\n",
       "        vertical-align: middle;\n",
       "    }\n",
       "\n",
       "    .dataframe tbody tr th {\n",
       "        vertical-align: top;\n",
       "    }\n",
       "\n",
       "    .dataframe thead th {\n",
       "        text-align: right;\n",
       "    }\n",
       "</style>\n",
       "<table border=\"1\" class=\"dataframe\">\n",
       "  <thead>\n",
       "    <tr style=\"text-align: right;\">\n",
       "      <th></th>\n",
       "      <th>Id</th>\n",
       "      <th>Title</th>\n",
       "      <th>review/score</th>\n",
       "      <th>review/text</th>\n",
       "    </tr>\n",
       "  </thead>\n",
       "  <tbody>\n",
       "    <tr>\n",
       "      <th>14</th>\n",
       "      <td>0595344550</td>\n",
       "      <td>Whispers of the Wicked Saints</td>\n",
       "      <td>1.0</td>\n",
       "      <td>I bought this book because I read some glowing praise on an online library site. Unfortunately, I was deeply disappointed by page three. I always buy books in the hope and expectation of having an enjoyable read, not to criticise. Howev...</td>\n",
       "    </tr>\n",
       "    <tr>\n",
       "      <th>15</th>\n",
       "      <td>0595344550</td>\n",
       "      <td>Whispers of the Wicked Saints</td>\n",
       "      <td>4.0</td>\n",
       "      <td>I have to admit, I am not one to write reviews on book. I do however like to read them. Some of the reviews are great, some are cruel, but the reviews on this book were absolutlely hysterical. I read this book and after watching the war...</td>\n",
       "    </tr>\n",
       "    <tr>\n",
       "      <th>16</th>\n",
       "      <td>0595344550</td>\n",
       "      <td>Whispers of the Wicked Saints</td>\n",
       "      <td>1.0</td>\n",
       "      <td>This is a self-published book, and if you want to know why--read a few paragraphs! Those 5 star reviews must have been written by Ms. Haddon's family and friends--or perhaps, by herself! I can't imagine anyone reading the whole thing--I...</td>\n",
       "    </tr>\n",
       "    <tr>\n",
       "      <th>17</th>\n",
       "      <td>0595344550</td>\n",
       "      <td>Whispers of the Wicked Saints</td>\n",
       "      <td>5.0</td>\n",
       "      <td>When I first read this the I was mezmerized at the style of writting. I soon became so hooked on this book that I wanted to fall on my knees and shut out the rest of the world. Haddon delivers a portrayal of a woman that is hurt loney a...</td>\n",
       "    </tr>\n",
       "    <tr>\n",
       "      <th>18</th>\n",
       "      <td>0595344550</td>\n",
       "      <td>Whispers of the Wicked Saints</td>\n",
       "      <td>5.0</td>\n",
       "      <td>I read the review directly under mine and I have to say I laughed. How can someone write a honest review on a book they read only three pages of? That was funny but also sad that people are mean enough to keep others from an enjoyable r...</td>\n",
       "    </tr>\n",
       "  </tbody>\n",
       "</table>\n",
       "</div>"
      ],
      "text/plain": [
       "            Id                          Title  review/score  \\\n",
       "14  0595344550  Whispers of the Wicked Saints           1.0   \n",
       "15  0595344550  Whispers of the Wicked Saints           4.0   \n",
       "16  0595344550  Whispers of the Wicked Saints           1.0   \n",
       "17  0595344550  Whispers of the Wicked Saints           5.0   \n",
       "18  0595344550  Whispers of the Wicked Saints           5.0   \n",
       "\n",
       "                                                                                                                                                                                                                                        review/text  \n",
       "14  I bought this book because I read some glowing praise on an online library site. Unfortunately, I was deeply disappointed by page three. I always buy books in the hope and expectation of having an enjoyable read, not to criticise. Howev...  \n",
       "15  I have to admit, I am not one to write reviews on book. I do however like to read them. Some of the reviews are great, some are cruel, but the reviews on this book were absolutlely hysterical. I read this book and after watching the war...  \n",
       "16  This is a self-published book, and if you want to know why--read a few paragraphs! Those 5 star reviews must have been written by Ms. Haddon's family and friends--or perhaps, by herself! I can't imagine anyone reading the whole thing--I...  \n",
       "17  When I first read this the I was mezmerized at the style of writting. I soon became so hooked on this book that I wanted to fall on my knees and shut out the rest of the world. Haddon delivers a portrayal of a woman that is hurt loney a...  \n",
       "18  I read the review directly under mine and I have to say I laughed. How can someone write a honest review on a book they read only three pages of? That was funny but also sad that people are mean enough to keep others from an enjoyable r...  "
      ]
     },
     "execution_count": 4,
     "metadata": {},
     "output_type": "execute_result"
    }
   ],
   "source": [
    "columns_to_keep = ['Id','Title','review/score','review/text']\n",
    "df = df[columns_to_keep]\n",
    "df.head()"
   ]
  },
  {
   "cell_type": "markdown",
   "id": "dfc3a57e",
   "metadata": {
    "papermill": {
     "duration": 0.00573,
     "end_time": "2023-11-26T03:18:08.639215",
     "exception": false,
     "start_time": "2023-11-26T03:18:08.633485",
     "status": "completed"
    },
    "tags": []
   },
   "source": [
    "In this section we will clean the data ensuring reviews are in a string format.  I will also lowercase all words and remove punctuation and stopwords"
   ]
  },
  {
   "cell_type": "code",
   "execution_count": 5,
   "id": "7b414d7a",
   "metadata": {
    "execution": {
     "iopub.execute_input": "2023-11-26T03:18:08.653616Z",
     "iopub.status.busy": "2023-11-26T03:18:08.653252Z",
     "iopub.status.idle": "2023-11-26T03:18:19.434832Z",
     "shell.execute_reply": "2023-11-26T03:18:19.433806Z"
    },
    "papermill": {
     "duration": 10.791906,
     "end_time": "2023-11-26T03:18:19.436857",
     "exception": false,
     "start_time": "2023-11-26T03:18:08.644951",
     "status": "completed"
    },
    "tags": []
   },
   "outputs": [
    {
     "data": {
      "text/html": [
       "<div>\n",
       "<style scoped>\n",
       "    .dataframe tbody tr th:only-of-type {\n",
       "        vertical-align: middle;\n",
       "    }\n",
       "\n",
       "    .dataframe tbody tr th {\n",
       "        vertical-align: top;\n",
       "    }\n",
       "\n",
       "    .dataframe thead th {\n",
       "        text-align: right;\n",
       "    }\n",
       "</style>\n",
       "<table border=\"1\" class=\"dataframe\">\n",
       "  <thead>\n",
       "    <tr style=\"text-align: right;\">\n",
       "      <th></th>\n",
       "      <th>Id</th>\n",
       "      <th>Title</th>\n",
       "      <th>review/score</th>\n",
       "      <th>review/text</th>\n",
       "    </tr>\n",
       "  </thead>\n",
       "  <tbody>\n",
       "    <tr>\n",
       "      <th>14</th>\n",
       "      <td>0595344550</td>\n",
       "      <td>Whispers of the Wicked Saints</td>\n",
       "      <td>1.0</td>\n",
       "      <td>bought book read glowing praise online library site unfortunately deeply disappointed page three always buy books hope expectation enjoyable read criticise however book urgent need good editing though quite possibly editing alone wouldn...</td>\n",
       "    </tr>\n",
       "    <tr>\n",
       "      <th>15</th>\n",
       "      <td>0595344550</td>\n",
       "      <td>Whispers of the Wicked Saints</td>\n",
       "      <td>4.0</td>\n",
       "      <td>admit one write reviews book however like read reviews great cruel reviews book absolutlely hysterical read book watching war words couldnt help jump good side book loved kept intersted bad side say typo featured back cover secret likin...</td>\n",
       "    </tr>\n",
       "    <tr>\n",
       "      <th>16</th>\n",
       "      <td>0595344550</td>\n",
       "      <td>Whispers of the Wicked Saints</td>\n",
       "      <td>1.0</td>\n",
       "      <td>selfpublished book want know whyread paragraphs 5 star reviews must written ms haddons family friendsor perhaps cant imagine anyone reading whole thingi spent evening book friend hysterics reading bits pieces one another definitely bad ...</td>\n",
       "    </tr>\n",
       "    <tr>\n",
       "      <th>17</th>\n",
       "      <td>0595344550</td>\n",
       "      <td>Whispers of the Wicked Saints</td>\n",
       "      <td>5.0</td>\n",
       "      <td>first read mezmerized style writting soon became hooked book wanted fall knees shut rest world haddon delivers portrayal woman hurt loney abused think wonderful job making reader feel like character</td>\n",
       "    </tr>\n",
       "    <tr>\n",
       "      <th>18</th>\n",
       "      <td>0595344550</td>\n",
       "      <td>Whispers of the Wicked Saints</td>\n",
       "      <td>5.0</td>\n",
       "      <td>read review directly mine say laughed someone write honest review book read three pages funny also sad people mean enough keep others enjoyable read loved book thought first chapter little long read whole book loved book afair heart rig...</td>\n",
       "    </tr>\n",
       "  </tbody>\n",
       "</table>\n",
       "</div>"
      ],
      "text/plain": [
       "            Id                          Title  review/score  \\\n",
       "14  0595344550  Whispers of the Wicked Saints           1.0   \n",
       "15  0595344550  Whispers of the Wicked Saints           4.0   \n",
       "16  0595344550  Whispers of the Wicked Saints           1.0   \n",
       "17  0595344550  Whispers of the Wicked Saints           5.0   \n",
       "18  0595344550  Whispers of the Wicked Saints           5.0   \n",
       "\n",
       "                                                                                                                                                                                                                                        review/text  \n",
       "14  bought book read glowing praise online library site unfortunately deeply disappointed page three always buy books hope expectation enjoyable read criticise however book urgent need good editing though quite possibly editing alone wouldn...  \n",
       "15  admit one write reviews book however like read reviews great cruel reviews book absolutlely hysterical read book watching war words couldnt help jump good side book loved kept intersted bad side say typo featured back cover secret likin...  \n",
       "16  selfpublished book want know whyread paragraphs 5 star reviews must written ms haddons family friendsor perhaps cant imagine anyone reading whole thingi spent evening book friend hysterics reading bits pieces one another definitely bad ...  \n",
       "17                                           first read mezmerized style writting soon became hooked book wanted fall knees shut rest world haddon delivers portrayal woman hurt loney abused think wonderful job making reader feel like character  \n",
       "18  read review directly mine say laughed someone write honest review book read three pages funny also sad people mean enough keep others enjoyable read loved book thought first chapter little long read whole book loved book afair heart rig...  "
      ]
     },
     "execution_count": 5,
     "metadata": {},
     "output_type": "execute_result"
    }
   ],
   "source": [
    "df['review/text'] = df['review/text'].astype(str)\n",
    "df = df[~df['review/text'].isnull()]\n",
    "len(df)\n",
    "\n",
    "df['review/text'] = df['review/text'].apply(lambda x: \" \".join(x.lower() for x in x.split()))\n",
    "\n",
    "def remove_punctuation(text):\n",
    "    return re.sub(r'[^\\w\\s]', '', text)\n",
    "\n",
    "df['review/text'] = df['review/text'].apply(remove_punctuation)\n",
    "\n",
    "stop = stopwords.words('english')\n",
    "df['review/text'] = df['review/text'].apply(lambda x: \" \".join(x for x in x.split() if x not in stop))\n",
    "\n",
    "df.head()"
   ]
  },
  {
   "cell_type": "markdown",
   "id": "513b2f96",
   "metadata": {
    "papermill": {
     "duration": 0.006004,
     "end_time": "2023-11-26T03:18:19.449362",
     "exception": false,
     "start_time": "2023-11-26T03:18:19.443358",
     "status": "completed"
    },
    "tags": []
   },
   "source": [
    "Here, we will categorize the ratings into positive, neutral or negative sentiments using the review/score column."
   ]
  },
  {
   "cell_type": "code",
   "execution_count": 6,
   "id": "455c095e",
   "metadata": {
    "execution": {
     "iopub.execute_input": "2023-11-26T03:18:19.463895Z",
     "iopub.status.busy": "2023-11-26T03:18:19.463542Z",
     "iopub.status.idle": "2023-11-26T03:18:19.485132Z",
     "shell.execute_reply": "2023-11-26T03:18:19.483748Z"
    },
    "papermill": {
     "duration": 0.031119,
     "end_time": "2023-11-26T03:18:19.487184",
     "exception": false,
     "start_time": "2023-11-26T03:18:19.456065",
     "status": "completed"
    },
    "tags": []
   },
   "outputs": [
    {
     "data": {
      "text/html": [
       "<div>\n",
       "<style scoped>\n",
       "    .dataframe tbody tr th:only-of-type {\n",
       "        vertical-align: middle;\n",
       "    }\n",
       "\n",
       "    .dataframe tbody tr th {\n",
       "        vertical-align: top;\n",
       "    }\n",
       "\n",
       "    .dataframe thead th {\n",
       "        text-align: right;\n",
       "    }\n",
       "</style>\n",
       "<table border=\"1\" class=\"dataframe\">\n",
       "  <thead>\n",
       "    <tr style=\"text-align: right;\">\n",
       "      <th></th>\n",
       "      <th>Id</th>\n",
       "      <th>Title</th>\n",
       "      <th>review/score</th>\n",
       "      <th>review/text</th>\n",
       "      <th>sentiment</th>\n",
       "    </tr>\n",
       "  </thead>\n",
       "  <tbody>\n",
       "    <tr>\n",
       "      <th>14</th>\n",
       "      <td>0595344550</td>\n",
       "      <td>Whispers of the Wicked Saints</td>\n",
       "      <td>1.0</td>\n",
       "      <td>bought book read glowing praise online library site unfortunately deeply disappointed page three always buy books hope expectation enjoyable read criticise however book urgent need good editing though quite possibly editing alone wouldn...</td>\n",
       "      <td>negative</td>\n",
       "    </tr>\n",
       "    <tr>\n",
       "      <th>15</th>\n",
       "      <td>0595344550</td>\n",
       "      <td>Whispers of the Wicked Saints</td>\n",
       "      <td>4.0</td>\n",
       "      <td>admit one write reviews book however like read reviews great cruel reviews book absolutlely hysterical read book watching war words couldnt help jump good side book loved kept intersted bad side say typo featured back cover secret likin...</td>\n",
       "      <td>positive</td>\n",
       "    </tr>\n",
       "    <tr>\n",
       "      <th>16</th>\n",
       "      <td>0595344550</td>\n",
       "      <td>Whispers of the Wicked Saints</td>\n",
       "      <td>1.0</td>\n",
       "      <td>selfpublished book want know whyread paragraphs 5 star reviews must written ms haddons family friendsor perhaps cant imagine anyone reading whole thingi spent evening book friend hysterics reading bits pieces one another definitely bad ...</td>\n",
       "      <td>negative</td>\n",
       "    </tr>\n",
       "    <tr>\n",
       "      <th>17</th>\n",
       "      <td>0595344550</td>\n",
       "      <td>Whispers of the Wicked Saints</td>\n",
       "      <td>5.0</td>\n",
       "      <td>first read mezmerized style writting soon became hooked book wanted fall knees shut rest world haddon delivers portrayal woman hurt loney abused think wonderful job making reader feel like character</td>\n",
       "      <td>positive</td>\n",
       "    </tr>\n",
       "    <tr>\n",
       "      <th>18</th>\n",
       "      <td>0595344550</td>\n",
       "      <td>Whispers of the Wicked Saints</td>\n",
       "      <td>5.0</td>\n",
       "      <td>read review directly mine say laughed someone write honest review book read three pages funny also sad people mean enough keep others enjoyable read loved book thought first chapter little long read whole book loved book afair heart rig...</td>\n",
       "      <td>positive</td>\n",
       "    </tr>\n",
       "  </tbody>\n",
       "</table>\n",
       "</div>"
      ],
      "text/plain": [
       "            Id                          Title  review/score  \\\n",
       "14  0595344550  Whispers of the Wicked Saints           1.0   \n",
       "15  0595344550  Whispers of the Wicked Saints           4.0   \n",
       "16  0595344550  Whispers of the Wicked Saints           1.0   \n",
       "17  0595344550  Whispers of the Wicked Saints           5.0   \n",
       "18  0595344550  Whispers of the Wicked Saints           5.0   \n",
       "\n",
       "                                                                                                                                                                                                                                        review/text  \\\n",
       "14  bought book read glowing praise online library site unfortunately deeply disappointed page three always buy books hope expectation enjoyable read criticise however book urgent need good editing though quite possibly editing alone wouldn...   \n",
       "15  admit one write reviews book however like read reviews great cruel reviews book absolutlely hysterical read book watching war words couldnt help jump good side book loved kept intersted bad side say typo featured back cover secret likin...   \n",
       "16  selfpublished book want know whyread paragraphs 5 star reviews must written ms haddons family friendsor perhaps cant imagine anyone reading whole thingi spent evening book friend hysterics reading bits pieces one another definitely bad ...   \n",
       "17                                           first read mezmerized style writting soon became hooked book wanted fall knees shut rest world haddon delivers portrayal woman hurt loney abused think wonderful job making reader feel like character   \n",
       "18  read review directly mine say laughed someone write honest review book read three pages funny also sad people mean enough keep others enjoyable read loved book thought first chapter little long read whole book loved book afair heart rig...   \n",
       "\n",
       "   sentiment  \n",
       "14  negative  \n",
       "15  positive  \n",
       "16  negative  \n",
       "17  positive  \n",
       "18  positive  "
      ]
     },
     "execution_count": 6,
     "metadata": {},
     "output_type": "execute_result"
    }
   ],
   "source": [
    "def categorize_rating(rating):\n",
    "    if rating >= 4:\n",
    "        return 'positive'\n",
    "    elif rating <= 2:\n",
    "        return 'negative'\n",
    "    else:\n",
    "        return 'neutral'\n",
    "df['sentiment'] = df['review/score'].apply(categorize_rating)\n",
    "\n",
    "df.head()"
   ]
  },
  {
   "cell_type": "code",
   "execution_count": 7,
   "id": "18e2b6e9",
   "metadata": {
    "execution": {
     "iopub.execute_input": "2023-11-26T03:18:19.502162Z",
     "iopub.status.busy": "2023-11-26T03:18:19.501798Z",
     "iopub.status.idle": "2023-11-26T03:18:19.512330Z",
     "shell.execute_reply": "2023-11-26T03:18:19.510913Z"
    },
    "papermill": {
     "duration": 0.020891,
     "end_time": "2023-11-26T03:18:19.514830",
     "exception": false,
     "start_time": "2023-11-26T03:18:19.493939",
     "status": "completed"
    },
    "tags": []
   },
   "outputs": [
    {
     "data": {
      "text/plain": [
       "sentiment\n",
       "positive    0.794650\n",
       "negative    0.119725\n",
       "neutral     0.085625\n",
       "Name: proportion, dtype: float64"
      ]
     },
     "execution_count": 7,
     "metadata": {},
     "output_type": "execute_result"
    }
   ],
   "source": [
    "df.sentiment.value_counts(normalize=True)"
   ]
  },
  {
   "cell_type": "code",
   "execution_count": 8,
   "id": "02d87fe7",
   "metadata": {
    "execution": {
     "iopub.execute_input": "2023-11-26T03:18:19.530183Z",
     "iopub.status.busy": "2023-11-26T03:18:19.529844Z",
     "iopub.status.idle": "2023-11-26T03:18:33.994710Z",
     "shell.execute_reply": "2023-11-26T03:18:33.993014Z"
    },
    "papermill": {
     "duration": 14.475199,
     "end_time": "2023-11-26T03:18:33.996706",
     "exception": false,
     "start_time": "2023-11-26T03:18:19.521507",
     "status": "completed"
    },
    "tags": []
   },
   "outputs": [
    {
     "data": {
      "text/html": [
       "<div>\n",
       "<style scoped>\n",
       "    .dataframe tbody tr th:only-of-type {\n",
       "        vertical-align: middle;\n",
       "    }\n",
       "\n",
       "    .dataframe tbody tr th {\n",
       "        vertical-align: top;\n",
       "    }\n",
       "\n",
       "    .dataframe thead th {\n",
       "        text-align: right;\n",
       "    }\n",
       "</style>\n",
       "<table border=\"1\" class=\"dataframe\">\n",
       "  <thead>\n",
       "    <tr style=\"text-align: right;\">\n",
       "      <th></th>\n",
       "      <th>Id</th>\n",
       "      <th>Title</th>\n",
       "      <th>review/score</th>\n",
       "      <th>review/text</th>\n",
       "      <th>sentiment</th>\n",
       "      <th>tokens</th>\n",
       "    </tr>\n",
       "  </thead>\n",
       "  <tbody>\n",
       "    <tr>\n",
       "      <th>14</th>\n",
       "      <td>0595344550</td>\n",
       "      <td>Whispers of the Wicked Saints</td>\n",
       "      <td>1.0</td>\n",
       "      <td>bought book read glowing praise online library site unfortunately deeply disappointed page three always buy books hope expectation enjoyable read criticise however book urgent need good editing though quite possibly editing alone wouldn...</td>\n",
       "      <td>negative</td>\n",
       "      <td>[bought, book, read, glowing, praise, online, library, site, unfortunately, deeply, disappointed, page, three, always, buy, books, hope, expectation, enjoyable, read, criticise, however, book, urgent, need, good, editing, though, quite,...</td>\n",
       "    </tr>\n",
       "    <tr>\n",
       "      <th>15</th>\n",
       "      <td>0595344550</td>\n",
       "      <td>Whispers of the Wicked Saints</td>\n",
       "      <td>4.0</td>\n",
       "      <td>admit one write reviews book however like read reviews great cruel reviews book absolutlely hysterical read book watching war words couldnt help jump good side book loved kept intersted bad side say typo featured back cover secret likin...</td>\n",
       "      <td>positive</td>\n",
       "      <td>[admit, one, write, reviews, book, however, like, read, reviews, great, cruel, reviews, book, absolutlely, hysterical, read, book, watching, war, words, couldnt, help, jump, good, side, book, loved, kept, intersted, bad, side, say, typo...</td>\n",
       "    </tr>\n",
       "    <tr>\n",
       "      <th>16</th>\n",
       "      <td>0595344550</td>\n",
       "      <td>Whispers of the Wicked Saints</td>\n",
       "      <td>1.0</td>\n",
       "      <td>selfpublished book want know whyread paragraphs 5 star reviews must written ms haddons family friendsor perhaps cant imagine anyone reading whole thingi spent evening book friend hysterics reading bits pieces one another definitely bad ...</td>\n",
       "      <td>negative</td>\n",
       "      <td>[selfpublished, book, want, know, whyread, paragraphs, 5, star, reviews, must, written, ms, haddons, family, friendsor, perhaps, cant, imagine, anyone, reading, whole, thingi, spent, evening, book, friend, hysterics, reading, bits, piec...</td>\n",
       "    </tr>\n",
       "    <tr>\n",
       "      <th>17</th>\n",
       "      <td>0595344550</td>\n",
       "      <td>Whispers of the Wicked Saints</td>\n",
       "      <td>5.0</td>\n",
       "      <td>first read mezmerized style writting soon became hooked book wanted fall knees shut rest world haddon delivers portrayal woman hurt loney abused think wonderful job making reader feel like character</td>\n",
       "      <td>positive</td>\n",
       "      <td>[first, read, mezmerized, style, writting, soon, became, hooked, book, wanted, fall, knees, shut, rest, world, haddon, delivers, portrayal, woman, hurt, loney, abused, think, wonderful, job, making, reader, feel, like, character]</td>\n",
       "    </tr>\n",
       "    <tr>\n",
       "      <th>18</th>\n",
       "      <td>0595344550</td>\n",
       "      <td>Whispers of the Wicked Saints</td>\n",
       "      <td>5.0</td>\n",
       "      <td>read review directly mine say laughed someone write honest review book read three pages funny also sad people mean enough keep others enjoyable read loved book thought first chapter little long read whole book loved book afair heart rig...</td>\n",
       "      <td>positive</td>\n",
       "      <td>[read, review, directly, mine, say, laughed, someone, write, honest, review, book, read, three, pages, funny, also, sad, people, mean, enough, keep, others, enjoyable, read, loved, book, thought, first, chapter, little, long, read, whol...</td>\n",
       "    </tr>\n",
       "  </tbody>\n",
       "</table>\n",
       "</div>"
      ],
      "text/plain": [
       "            Id                          Title  review/score  \\\n",
       "14  0595344550  Whispers of the Wicked Saints           1.0   \n",
       "15  0595344550  Whispers of the Wicked Saints           4.0   \n",
       "16  0595344550  Whispers of the Wicked Saints           1.0   \n",
       "17  0595344550  Whispers of the Wicked Saints           5.0   \n",
       "18  0595344550  Whispers of the Wicked Saints           5.0   \n",
       "\n",
       "                                                                                                                                                                                                                                        review/text  \\\n",
       "14  bought book read glowing praise online library site unfortunately deeply disappointed page three always buy books hope expectation enjoyable read criticise however book urgent need good editing though quite possibly editing alone wouldn...   \n",
       "15  admit one write reviews book however like read reviews great cruel reviews book absolutlely hysterical read book watching war words couldnt help jump good side book loved kept intersted bad side say typo featured back cover secret likin...   \n",
       "16  selfpublished book want know whyread paragraphs 5 star reviews must written ms haddons family friendsor perhaps cant imagine anyone reading whole thingi spent evening book friend hysterics reading bits pieces one another definitely bad ...   \n",
       "17                                           first read mezmerized style writting soon became hooked book wanted fall knees shut rest world haddon delivers portrayal woman hurt loney abused think wonderful job making reader feel like character   \n",
       "18  read review directly mine say laughed someone write honest review book read three pages funny also sad people mean enough keep others enjoyable read loved book thought first chapter little long read whole book loved book afair heart rig...   \n",
       "\n",
       "   sentiment  \\\n",
       "14  negative   \n",
       "15  positive   \n",
       "16  negative   \n",
       "17  positive   \n",
       "18  positive   \n",
       "\n",
       "                                                                                                                                                                                                                                             tokens  \n",
       "14  [bought, book, read, glowing, praise, online, library, site, unfortunately, deeply, disappointed, page, three, always, buy, books, hope, expectation, enjoyable, read, criticise, however, book, urgent, need, good, editing, though, quite,...  \n",
       "15  [admit, one, write, reviews, book, however, like, read, reviews, great, cruel, reviews, book, absolutlely, hysterical, read, book, watching, war, words, couldnt, help, jump, good, side, book, loved, kept, intersted, bad, side, say, typo...  \n",
       "16  [selfpublished, book, want, know, whyread, paragraphs, 5, star, reviews, must, written, ms, haddons, family, friendsor, perhaps, cant, imagine, anyone, reading, whole, thingi, spent, evening, book, friend, hysterics, reading, bits, piec...  \n",
       "17            [first, read, mezmerized, style, writting, soon, became, hooked, book, wanted, fall, knees, shut, rest, world, haddon, delivers, portrayal, woman, hurt, loney, abused, think, wonderful, job, making, reader, feel, like, character]  \n",
       "18  [read, review, directly, mine, say, laughed, someone, write, honest, review, book, read, three, pages, funny, also, sad, people, mean, enough, keep, others, enjoyable, read, loved, book, thought, first, chapter, little, long, read, whol...  "
      ]
     },
     "execution_count": 8,
     "metadata": {},
     "output_type": "execute_result"
    }
   ],
   "source": [
    "df['tokens'] = df['review/text'].apply(lambda x: word_tokenize(x.lower()))\n",
    "df.head()"
   ]
  },
  {
   "cell_type": "code",
   "execution_count": 9,
   "id": "6f3505bd",
   "metadata": {
    "execution": {
     "iopub.execute_input": "2023-11-26T03:18:34.011937Z",
     "iopub.status.busy": "2023-11-26T03:18:34.011540Z",
     "iopub.status.idle": "2023-11-26T03:18:35.581541Z",
     "shell.execute_reply": "2023-11-26T03:18:35.580613Z"
    },
    "papermill": {
     "duration": 1.579742,
     "end_time": "2023-11-26T03:18:35.583374",
     "exception": false,
     "start_time": "2023-11-26T03:18:34.003632",
     "status": "completed"
    },
    "tags": []
   },
   "outputs": [
    {
     "name": "stdout",
     "output_type": "stream",
     "text": [
      "number of unique tokens overall: 135750\n",
      "number of positive tokens: 114433\n",
      "number of negative tokens: 38072\n",
      "number of neutral tokens: 33057\n"
     ]
    }
   ],
   "source": [
    "# subset the data by positive, negative, and neutral\n",
    "df_pos = df[df['sentiment'] == 'positive']\n",
    "df_neg = df[df['sentiment'] == 'negative']\n",
    "df_neu = df[df['sentiment'] == 'neutral']\n",
    "\n",
    "def create_vocab_list(tokens_column):\n",
    "    vocab = dict()\n",
    "    for review_tokens in tokens_column:\n",
    "        for token in review_tokens:\n",
    "            if token not in vocab:\n",
    "                vocab[token] = 1\n",
    "            else:\n",
    "                vocab[token] += 1\n",
    "    return vocab\n",
    "\n",
    "vocab_all = dict(sorted(create_vocab_list(df['tokens']).items(), key=lambda item: item[1], reverse=True))\n",
    "vocab_pos = dict(sorted(create_vocab_list(df_pos['tokens']).items(), key=lambda item: item[1], reverse=True))\n",
    "vocab_neg = dict(sorted(create_vocab_list(df_neg['tokens']).items(), key=lambda item: item[1], reverse=True))\n",
    "vocab_neu = dict(sorted(create_vocab_list(df_neu['tokens']).items(), key=lambda item: item[1], reverse=True))\n",
    "print(f\"number of unique tokens overall: {len(vocab_all)}\")\n",
    "print(f\"number of positive tokens: {len(vocab_pos)}\")\n",
    "print(f\"number of negative tokens: {len(vocab_neg)}\")\n",
    "print(f\"number of neutral tokens: {len(vocab_neu)}\")"
   ]
  },
  {
   "cell_type": "code",
   "execution_count": 10,
   "id": "fd622634",
   "metadata": {
    "execution": {
     "iopub.execute_input": "2023-11-26T03:18:35.598056Z",
     "iopub.status.busy": "2023-11-26T03:18:35.597764Z",
     "iopub.status.idle": "2023-11-26T03:18:35.633378Z",
     "shell.execute_reply": "2023-11-26T03:18:35.632390Z"
    },
    "papermill": {
     "duration": 0.045307,
     "end_time": "2023-11-26T03:18:35.635332",
     "exception": false,
     "start_time": "2023-11-26T03:18:35.590025",
     "status": "completed"
    },
    "tags": []
   },
   "outputs": [
    {
     "data": {
      "text/plain": [
       "[('book', 76369),\n",
       " ('read', 33892),\n",
       " ('one', 25479),\n",
       " ('story', 17306),\n",
       " ('like', 16048),\n",
       " ('would', 14996),\n",
       " ('books', 14522),\n",
       " ('time', 12821),\n",
       " ('reading', 11927),\n",
       " ('good', 11680),\n",
       " ('people', 10898),\n",
       " ('great', 10868),\n",
       " ('novel', 10696),\n",
       " ('first', 10538),\n",
       " ('many', 10485),\n",
       " ('life', 10471),\n",
       " ('much', 9918),\n",
       " ('even', 9721),\n",
       " ('really', 9436),\n",
       " ('characters', 9418)]"
      ]
     },
     "execution_count": 10,
     "metadata": {},
     "output_type": "execute_result"
    }
   ],
   "source": [
    "list(vocab_all.items())[:20]"
   ]
  },
  {
   "cell_type": "code",
   "execution_count": 11,
   "id": "ce9e1849",
   "metadata": {
    "execution": {
     "iopub.execute_input": "2023-11-26T03:18:35.651236Z",
     "iopub.status.busy": "2023-11-26T03:18:35.650346Z",
     "iopub.status.idle": "2023-11-26T03:18:35.661242Z",
     "shell.execute_reply": "2023-11-26T03:18:35.659941Z"
    },
    "papermill": {
     "duration": 0.021229,
     "end_time": "2023-11-26T03:18:35.663652",
     "exception": false,
     "start_time": "2023-11-26T03:18:35.642423",
     "status": "completed"
    },
    "tags": []
   },
   "outputs": [
    {
     "name": "stdout",
     "output_type": "stream",
     "text": [
      "number of unique tokens overall: 135750\n",
      "number of positive tokens: 113433\n",
      "number of negative tokens: 37072\n",
      "number of neutral tokens: 32057\n"
     ]
    }
   ],
   "source": [
    "top_n_to_remove = 1000 \n",
    "for i, item in enumerate(vocab_all.items()):\n",
    "    if i == top_n_to_remove:\n",
    "        break\n",
    "    if item[0] in vocab_pos:\n",
    "        del vocab_pos[item[0]]\n",
    "    if item[0] in vocab_neg:\n",
    "        del vocab_neg[item[0]]\n",
    "    if item[0] in vocab_neu:\n",
    "        del vocab_neu[item[0]]\n",
    "print(f\"number of unique tokens overall: {len(vocab_all)}\")\n",
    "print(f\"number of positive tokens: {len(vocab_pos)}\")\n",
    "print(f\"number of negative tokens: {len(vocab_neg)}\")\n",
    "print(f\"number of neutral tokens: {len(vocab_neu)}\")"
   ]
  },
  {
   "cell_type": "code",
   "execution_count": 12,
   "id": "611a9547",
   "metadata": {
    "execution": {
     "iopub.execute_input": "2023-11-26T03:18:35.679883Z",
     "iopub.status.busy": "2023-11-26T03:18:35.679509Z",
     "iopub.status.idle": "2023-11-26T03:18:35.710063Z",
     "shell.execute_reply": "2023-11-26T03:18:35.709108Z"
    },
    "papermill": {
     "duration": 0.041026,
     "end_time": "2023-11-26T03:18:35.712069",
     "exception": false,
     "start_time": "2023-11-26T03:18:35.671043",
     "status": "completed"
    },
    "tags": []
   },
   "outputs": [
    {
     "data": {
      "text/plain": [
       "[('joy', 448),\n",
       " ('ayla', 446),\n",
       " ('lesson', 437),\n",
       " ('sir', 437),\n",
       " ('follows', 433),\n",
       " ('de', 431),\n",
       " ('bradburys', 431),\n",
       " ('pleasure', 430),\n",
       " ('twists', 429),\n",
       " ('escape', 427)]"
      ]
     },
     "execution_count": 12,
     "metadata": {},
     "output_type": "execute_result"
    }
   ],
   "source": [
    "list(vocab_pos.items())[:10]"
   ]
  },
  {
   "cell_type": "code",
   "execution_count": 13,
   "id": "32544afe",
   "metadata": {
    "execution": {
     "iopub.execute_input": "2023-11-26T03:18:35.728337Z",
     "iopub.status.busy": "2023-11-26T03:18:35.727947Z",
     "iopub.status.idle": "2023-11-26T03:18:35.741476Z",
     "shell.execute_reply": "2023-11-26T03:18:35.740622Z"
    },
    "papermill": {
     "duration": 0.024465,
     "end_time": "2023-11-26T03:18:35.743977",
     "exception": false,
     "start_time": "2023-11-26T03:18:35.719512",
     "status": "completed"
    },
    "tags": []
   },
   "outputs": [
    {
     "data": {
      "text/plain": [
       "[('waste', 301),\n",
       " ('claims', 180),\n",
       " ('brokaw', 177),\n",
       " ('poorly', 160),\n",
       " ('stupid', 141),\n",
       " ('dull', 139),\n",
       " ('unless', 133),\n",
       " ('terrible', 130),\n",
       " ('sorry', 125),\n",
       " ('errors', 124)]"
      ]
     },
     "execution_count": 13,
     "metadata": {},
     "output_type": "execute_result"
    }
   ],
   "source": [
    "list(vocab_neg.items())[:10]"
   ]
  },
  {
   "cell_type": "code",
   "execution_count": 14,
   "id": "e44b5be5",
   "metadata": {
    "execution": {
     "iopub.execute_input": "2023-11-26T03:18:35.760065Z",
     "iopub.status.busy": "2023-11-26T03:18:35.759422Z",
     "iopub.status.idle": "2023-11-26T03:18:35.771040Z",
     "shell.execute_reply": "2023-11-26T03:18:35.770071Z"
    },
    "papermill": {
     "duration": 0.021697,
     "end_time": "2023-11-26T03:18:35.772936",
     "exception": false,
     "start_time": "2023-11-26T03:18:35.751239",
     "status": "completed"
    },
    "tags": []
   },
   "outputs": [
    {
     "data": {
      "text/plain": [
       "[('ok', 115),\n",
       " ('sue', 111),\n",
       " ('fairly', 91),\n",
       " ('piggy', 91),\n",
       " ('premise', 90),\n",
       " ('okay', 78),\n",
       " ('weak', 74),\n",
       " ('somehow', 73),\n",
       " ('hoping', 72),\n",
       " ('dull', 72)]"
      ]
     },
     "execution_count": 14,
     "metadata": {},
     "output_type": "execute_result"
    }
   ],
   "source": [
    "list(vocab_neu.items())[:10]"
   ]
  },
  {
   "cell_type": "code",
   "execution_count": 15,
   "id": "baf2e67b",
   "metadata": {
    "execution": {
     "iopub.execute_input": "2023-11-26T03:18:35.788974Z",
     "iopub.status.busy": "2023-11-26T03:18:35.788619Z",
     "iopub.status.idle": "2023-11-26T03:18:35.865783Z",
     "shell.execute_reply": "2023-11-26T03:18:35.864488Z"
    },
    "papermill": {
     "duration": 0.087689,
     "end_time": "2023-11-26T03:18:35.867945",
     "exception": false,
     "start_time": "2023-11-26T03:18:35.780256",
     "status": "completed"
    },
    "tags": []
   },
   "outputs": [],
   "source": [
    "X_tokens = df['tokens'].copy()\n",
    "y = df['sentiment'].copy()\n",
    "\n",
    "X = X_tokens.apply(lambda tokens: ' '.join(tokens))\n",
    "\n",
    "X_train_raw, X_val_raw, y_train, y_val = train_test_split(X, y, test_size=0.20, random_state=42)"
   ]
  },
  {
   "cell_type": "code",
   "execution_count": 16,
   "id": "e92e6fb7",
   "metadata": {
    "execution": {
     "iopub.execute_input": "2023-11-26T03:18:35.883912Z",
     "iopub.status.busy": "2023-11-26T03:18:35.883539Z",
     "iopub.status.idle": "2023-11-26T03:18:41.792481Z",
     "shell.execute_reply": "2023-11-26T03:18:41.791427Z"
    },
    "papermill": {
     "duration": 5.919287,
     "end_time": "2023-11-26T03:18:41.794671",
     "exception": false,
     "start_time": "2023-11-26T03:18:35.875384",
     "status": "completed"
    },
    "tags": []
   },
   "outputs": [
    {
     "name": "stdout",
     "output_type": "stream",
     "text": [
      "X_train.shape = (32000, 118921)\n"
     ]
    },
    {
     "data": {
      "text/plain": [
       "numpy.ndarray"
      ]
     },
     "execution_count": 16,
     "metadata": {},
     "output_type": "execute_result"
    }
   ],
   "source": [
    "tfidf_vectorizer = TfidfVectorizer()\n",
    "X_train = tfidf_vectorizer.fit_transform(X_train_raw).toarray()\n",
    "X_val = tfidf_vectorizer.transform(X_val_raw).toarray()\n",
    "print(f\"X_train.shape = {X_train.shape}\")\n",
    "type(X_train)"
   ]
  },
  {
   "cell_type": "code",
   "execution_count": 17,
   "id": "ed0de657",
   "metadata": {
    "execution": {
     "iopub.execute_input": "2023-11-26T03:18:41.810751Z",
     "iopub.status.busy": "2023-11-26T03:18:41.810414Z",
     "iopub.status.idle": "2023-11-26T03:24:14.893149Z",
     "shell.execute_reply": "2023-11-26T03:24:14.891923Z"
    },
    "papermill": {
     "duration": 333.093397,
     "end_time": "2023-11-26T03:24:14.895554",
     "exception": false,
     "start_time": "2023-11-26T03:18:41.802157",
     "status": "completed"
    },
    "tags": []
   },
   "outputs": [],
   "source": [
    "model = RandomForestClassifier(n_estimators=25)\n",
    "model = model.fit(X_train, y_train)"
   ]
  },
  {
   "cell_type": "code",
   "execution_count": 18,
   "id": "17bfc1de",
   "metadata": {
    "execution": {
     "iopub.execute_input": "2023-11-26T03:24:14.912906Z",
     "iopub.status.busy": "2023-11-26T03:24:14.912542Z",
     "iopub.status.idle": "2023-11-26T03:24:31.500016Z",
     "shell.execute_reply": "2023-11-26T03:24:31.499113Z"
    },
    "papermill": {
     "duration": 16.598141,
     "end_time": "2023-11-26T03:24:31.502028",
     "exception": false,
     "start_time": "2023-11-26T03:24:14.903887",
     "status": "completed"
    },
    "tags": []
   },
   "outputs": [
    {
     "data": {
      "text/html": [
       "<style>#sk-container-id-1 {color: black;background-color: white;}#sk-container-id-1 pre{padding: 0;}#sk-container-id-1 div.sk-toggleable {background-color: white;}#sk-container-id-1 label.sk-toggleable__label {cursor: pointer;display: block;width: 100%;margin-bottom: 0;padding: 0.3em;box-sizing: border-box;text-align: center;}#sk-container-id-1 label.sk-toggleable__label-arrow:before {content: \"▸\";float: left;margin-right: 0.25em;color: #696969;}#sk-container-id-1 label.sk-toggleable__label-arrow:hover:before {color: black;}#sk-container-id-1 div.sk-estimator:hover label.sk-toggleable__label-arrow:before {color: black;}#sk-container-id-1 div.sk-toggleable__content {max-height: 0;max-width: 0;overflow: hidden;text-align: left;background-color: #f0f8ff;}#sk-container-id-1 div.sk-toggleable__content pre {margin: 0.2em;color: black;border-radius: 0.25em;background-color: #f0f8ff;}#sk-container-id-1 input.sk-toggleable__control:checked~div.sk-toggleable__content {max-height: 200px;max-width: 100%;overflow: auto;}#sk-container-id-1 input.sk-toggleable__control:checked~label.sk-toggleable__label-arrow:before {content: \"▾\";}#sk-container-id-1 div.sk-estimator input.sk-toggleable__control:checked~label.sk-toggleable__label {background-color: #d4ebff;}#sk-container-id-1 div.sk-label input.sk-toggleable__control:checked~label.sk-toggleable__label {background-color: #d4ebff;}#sk-container-id-1 input.sk-hidden--visually {border: 0;clip: rect(1px 1px 1px 1px);clip: rect(1px, 1px, 1px, 1px);height: 1px;margin: -1px;overflow: hidden;padding: 0;position: absolute;width: 1px;}#sk-container-id-1 div.sk-estimator {font-family: monospace;background-color: #f0f8ff;border: 1px dotted black;border-radius: 0.25em;box-sizing: border-box;margin-bottom: 0.5em;}#sk-container-id-1 div.sk-estimator:hover {background-color: #d4ebff;}#sk-container-id-1 div.sk-parallel-item::after {content: \"\";width: 100%;border-bottom: 1px solid gray;flex-grow: 1;}#sk-container-id-1 div.sk-label:hover label.sk-toggleable__label {background-color: #d4ebff;}#sk-container-id-1 div.sk-serial::before {content: \"\";position: absolute;border-left: 1px solid gray;box-sizing: border-box;top: 0;bottom: 0;left: 50%;z-index: 0;}#sk-container-id-1 div.sk-serial {display: flex;flex-direction: column;align-items: center;background-color: white;padding-right: 0.2em;padding-left: 0.2em;position: relative;}#sk-container-id-1 div.sk-item {position: relative;z-index: 1;}#sk-container-id-1 div.sk-parallel {display: flex;align-items: stretch;justify-content: center;background-color: white;position: relative;}#sk-container-id-1 div.sk-item::before, #sk-container-id-1 div.sk-parallel-item::before {content: \"\";position: absolute;border-left: 1px solid gray;box-sizing: border-box;top: 0;bottom: 0;left: 50%;z-index: -1;}#sk-container-id-1 div.sk-parallel-item {display: flex;flex-direction: column;z-index: 1;position: relative;background-color: white;}#sk-container-id-1 div.sk-parallel-item:first-child::after {align-self: flex-end;width: 50%;}#sk-container-id-1 div.sk-parallel-item:last-child::after {align-self: flex-start;width: 50%;}#sk-container-id-1 div.sk-parallel-item:only-child::after {width: 0;}#sk-container-id-1 div.sk-dashed-wrapped {border: 1px dashed gray;margin: 0 0.4em 0.5em 0.4em;box-sizing: border-box;padding-bottom: 0.4em;background-color: white;}#sk-container-id-1 div.sk-label label {font-family: monospace;font-weight: bold;display: inline-block;line-height: 1.2em;}#sk-container-id-1 div.sk-label-container {text-align: center;}#sk-container-id-1 div.sk-container {/* jupyter's `normalize.less` sets `[hidden] { display: none; }` but bootstrap.min.css set `[hidden] { display: none !important; }` so we also need the `!important` here to be able to override the default hidden behavior on the sphinx rendered scikit-learn.org. See: https://github.com/scikit-learn/scikit-learn/issues/21755 */display: inline-block !important;position: relative;}#sk-container-id-1 div.sk-text-repr-fallback {display: none;}</style><div id=\"sk-container-id-1\" class=\"sk-top-container\"><div class=\"sk-text-repr-fallback\"><pre>RandomForestClassifier(n_estimators=25)</pre><b>In a Jupyter environment, please rerun this cell to show the HTML representation or trust the notebook. <br />On GitHub, the HTML representation is unable to render, please try loading this page with nbviewer.org.</b></div><div class=\"sk-container\" hidden><div class=\"sk-item\"><div class=\"sk-estimator sk-toggleable\"><input class=\"sk-toggleable__control sk-hidden--visually\" id=\"sk-estimator-id-1\" type=\"checkbox\" checked><label for=\"sk-estimator-id-1\" class=\"sk-toggleable__label sk-toggleable__label-arrow\">RandomForestClassifier</label><div class=\"sk-toggleable__content\"><pre>RandomForestClassifier(n_estimators=25)</pre></div></div></div></div></div>"
      ],
      "text/plain": [
       "RandomForestClassifier(n_estimators=25)"
      ]
     },
     "execution_count": 18,
     "metadata": {},
     "output_type": "execute_result"
    }
   ],
   "source": [
    "sums = np.sum(X_train, axis=0)\n",
    "sorted_indices = np.argsort(sums)[::-1]\n",
    "N = 1000\n",
    "top_n_indices = sorted_indices[:N]\n",
    "\n",
    "feature_names = np.array(tfidf_vectorizer.get_feature_names_out())\n",
    "top_n_feature_names = feature_names[top_n_indices]\n",
    "\n",
    "tfidf_vectorizer_top_n = TfidfVectorizer(vocabulary=top_n_feature_names)\n",
    "\n",
    "X_train_reduced = tfidf_vectorizer_top_n.fit_transform(X_train_raw).toarray()\n",
    "X_val_reduced = tfidf_vectorizer_top_n.transform(X_val_raw).toarray()\n",
    "model.fit(X_train_reduced, y_train)\n"
   ]
  },
  {
   "cell_type": "code",
   "execution_count": 19,
   "id": "76bc1647",
   "metadata": {
    "execution": {
     "iopub.execute_input": "2023-11-26T03:24:31.519412Z",
     "iopub.status.busy": "2023-11-26T03:24:31.519081Z",
     "iopub.status.idle": "2023-11-26T03:24:32.504242Z",
     "shell.execute_reply": "2023-11-26T03:24:32.503350Z"
    },
    "papermill": {
     "duration": 0.995615,
     "end_time": "2023-11-26T03:24:32.505930",
     "exception": false,
     "start_time": "2023-11-26T03:24:31.510315",
     "status": "completed"
    },
    "tags": []
   },
   "outputs": [
    {
     "name": "stdout",
     "output_type": "stream",
     "text": [
      "accuracy (on y_train): 0.9975\n"
     ]
    },
    {
     "data": {
      "image/png": "[encoded data removed]",
      "text/plain": [
       "<Figure size 640x480 with 2 Axes>"
      ]
     },
     "metadata": {},
     "output_type": "display_data"
    }
   ],
   "source": [
    "predictions_train = model.predict(X_train_reduced)\n",
    "disp = ConfusionMatrixDisplay(confusion_matrix(y_train, predictions_train), display_labels=['negative', 'neutral', 'positive'])\n",
    "disp.plot()\n",
    "print(f\"accuracy (on y_train): {accuracy_score(y_train, predictions_train):.4f}\")"
   ]
  },
  {
   "cell_type": "code",
   "execution_count": 20,
   "id": "d44ba4b8",
   "metadata": {
    "execution": {
     "iopub.execute_input": "2023-11-26T03:24:32.525020Z",
     "iopub.status.busy": "2023-11-26T03:24:32.524644Z",
     "iopub.status.idle": "2023-11-26T03:24:32.936546Z",
     "shell.execute_reply": "2023-11-26T03:24:32.935475Z"
    },
    "papermill": {
     "duration": 0.423368,
     "end_time": "2023-11-26T03:24:32.938223",
     "exception": false,
     "start_time": "2023-11-26T03:24:32.514855",
     "status": "completed"
    },
    "tags": []
   },
   "outputs": [
    {
     "name": "stdout",
     "output_type": "stream",
     "text": [
      "accuracy (on y_val): 0.8179\n"
     ]
    },
    {
     "data": {
      "image/png": "[encoded data removed]",
      "text/plain": [
       "<Figure size 640x480 with 2 Axes>"
      ]
     },
     "metadata": {},
     "output_type": "display_data"
    }
   ],
   "source": [
    "predictions_val = model.predict(X_val_reduced)\n",
    "disp = ConfusionMatrixDisplay(confusion_matrix(y_val, predictions_val), display_labels=['negative', 'neutral', 'positive'])\n",
    "disp.plot()\n",
    "print(f\"accuracy (on y_val): {accuracy_score(y_val, predictions_val):.4f}\")"
   ]
  },
  {
   "cell_type": "code",
   "execution_count": 21,
   "id": "43df60be",
   "metadata": {
    "execution": {
     "iopub.execute_input": "2023-11-26T03:24:32.958253Z",
     "iopub.status.busy": "2023-11-26T03:24:32.956914Z",
     "iopub.status.idle": "2023-11-26T03:32:18.768597Z",
     "shell.execute_reply": "2023-11-26T03:32:18.767215Z"
    },
    "papermill": {
     "duration": 465.824274,
     "end_time": "2023-11-26T03:32:18.771309",
     "exception": false,
     "start_time": "2023-11-26T03:24:32.947035",
     "status": "completed"
    },
    "tags": []
   },
   "outputs": [],
   "source": [
    "from sklearn.metrics import log_loss\n",
    "\n",
    "def tuneModel(hyperparam_value):\n",
    "    rf_model = RandomForestClassifier(n_estimators=hyperparam_value, random_state=5)\n",
    "    rf_model.fit(X_train_reduced, y_train)\n",
    "    y_train_pred_prob = rf_model.predict_proba(X_train_reduced)\n",
    "    y_train_pred = rf_model.predict(X_train_reduced)\n",
    "    y_val_pred_prob = rf_model.predict_proba(X_val_reduced)\n",
    "    y_val_pred = rf_model.predict(X_val_reduced)\n",
    "    train_loss = log_loss(y_train, y_train_pred_prob, labels=['negative', 'neutral', 'positive'])\n",
    "    train_acc = accuracy_score(y_train, y_train_pred)\n",
    "    val_loss = log_loss(y_val, y_val_pred_prob, labels=['negative', 'neutral', 'positive'])\n",
    "    val_acc = accuracy_score(y_val, y_val_pred)\n",
    "    return (train_loss, val_loss, train_acc, val_acc)\n",
    "\n",
    "hyp_param_vals = list(range(10,261,50)) # good values for n_estimators\n",
    "\n",
    "metrics = []\n",
    "\n",
    "for hp in hyp_param_vals:\n",
    "    metrics.append(tuneModel(hp))"
   ]
  },
  {
   "cell_type": "code",
   "execution_count": 22,
   "id": "b416db88",
   "metadata": {
    "execution": {
     "iopub.execute_input": "2023-11-26T03:32:18.849270Z",
     "iopub.status.busy": "2023-11-26T03:32:18.848937Z",
     "iopub.status.idle": "2023-11-26T03:32:19.315348Z",
     "shell.execute_reply": "2023-11-26T03:32:19.314469Z"
    },
    "papermill": {
     "duration": 0.47817,
     "end_time": "2023-11-26T03:32:19.317223",
     "exception": false,
     "start_time": "2023-11-26T03:32:18.839053",
     "status": "completed"
    },
    "tags": []
   },
   "outputs": [
    {
     "data": {
      "image/png": "[encoded data removed]",
      "text/plain": [
       "<Figure size 1600x400 with 2 Axes>"
      ]
     },
     "metadata": {},
     "output_type": "display_data"
    }
   ],
   "source": [
    "\n",
    "fig, (ax1, ax2) = plt.subplots(1, 2, figsize=(16, 4))\n",
    "\n",
    "ax1.set_xticks(hyp_param_vals)\n",
    "ax1.set(xlabel=\"n_estimators\", ylabel=\"loss (lower is better)\")\n",
    "ax1.plot(hyp_param_vals, [metric[1] for metric in metrics], '--ro') # validation loss\n",
    "ax1.plot(hyp_param_vals, [metric[0] for metric in metrics], '--bo') # training loss\n",
    "ax1.set_title(\"Model Loss vs. n_estimators\")\n",
    "ax1.grid(True)\n",
    "\n",
    "ax2.set_xticks(hyp_param_vals)\n",
    "ax2.set(xlabel=\"n_estimators\", ylabel=\"accuracy (higher is better)\")\n",
    "ax2.plot(hyp_param_vals, [metric[3] for metric in metrics], '--ro') # validation accuracy\n",
    "ax2.plot(hyp_param_vals, [metric[2] for metric in metrics], '--bo') # training accuracy\n",
    "ax2.set_title(\"Model Accuracy vs. n_estimators\")\n",
    "ax2.grid(True)\n",
    "    \n",
    "min_val_loss = min([metric[1] for metric in metrics])\n",
    "min_val_loss_index = [metric[1] for metric in metrics].index(min_val_loss)\n",
    "ax1.annotate('Lowest Validation loss', \n",
    "             xy=(hyp_param_vals[min_val_loss_index], min_val_loss),\n",
    "             xytext=(-180, 20),\n",
    "             textcoords='offset points',\n",
    "             arrowprops=dict(arrowstyle='->', color='black'))\n",
    "max_val_acc = max([metric[3] for metric in metrics])\n",
    "max_val_acc_index = [metric[3] for metric in metrics].index(max_val_acc)\n",
    "ax2.annotate(\"Highest Validation Accuracy\",\n",
    "             xy=(hyp_param_vals[max_val_acc_index], max_val_acc),\n",
    "             xytext=(-50, 20),\n",
    "             textcoords='offset points',\n",
    "             arrowprops=dict(arrowstyle='->', color='black'))\n",
    "    \n",
    "ax1.legend([\"Validation Loss\", \"Train Loss\"], loc=1)\n",
    "ax2.legend([\"Validation Accuracy\", \"Train Accuracy\"], loc=1)\n",
    "    \n",
    "plt.show()"
   ]
  },
  {
   "cell_type": "code",
   "execution_count": 23,
   "id": "baecd375",
   "metadata": {
    "execution": {
     "iopub.execute_input": "2023-11-26T03:32:19.338265Z",
     "iopub.status.busy": "2023-11-26T03:32:19.337920Z",
     "iopub.status.idle": "2023-11-26T03:32:19.347256Z",
     "shell.execute_reply": "2023-11-26T03:32:19.346407Z"
    },
    "papermill": {
     "duration": 0.022624,
     "end_time": "2023-11-26T03:32:19.349835",
     "exception": false,
     "start_time": "2023-11-26T03:32:19.327211",
     "status": "completed"
    },
    "tags": []
   },
   "outputs": [
    {
     "name": "stdout",
     "output_type": "stream",
     "text": [
      "   hyperparam  test_loss  test_acc\n",
      "0          10   1.898376  0.814250\n",
      "1          60   0.559644  0.818750\n",
      "2         110   0.518681  0.819375\n",
      "3         160   0.516181  0.818625\n",
      "4         210   0.511134  0.819000\n",
      "5         260   0.507020  0.818875\n"
     ]
    }
   ],
   "source": [
    "tuning_results = np.array([hyp_param_vals, [round(metric[1],2) for metric in metrics], [round(metric[3],2) for metric in metrics]])\n",
    "df_tuning_results = pd.DataFrame({'hyperparam':hyp_param_vals, 'test_loss':[metric[1] for metric in metrics], 'test_acc':[metric[3] for metric in metrics]})\n",
    "print(df_tuning_results)"
   ]
  }
 ],
 "metadata": {
  "kaggle": {
   "accelerator": "none",
   "dataSources": [
    {
     "datasetId": 2476732,
     "sourceId": 4200454,
     "sourceType": "datasetVersion"
    }
   ],
   "dockerImageVersionId": 30588,
   "isGpuEnabled": false,
   "isInternetEnabled": true,
   "language": "python",
   "sourceType": "notebook"
  },
  "kernelspec": {
   "display_name": "Python 3",
   "language": "python",
   "name": "python3"
  },
  "language_info": {
   "codemirror_mode": {
    "name": "ipython",
    "version": 3
   },
   "file_extension": ".py",
   "mimetype": "text/x-python",
   "name": "python",
   "nbconvert_exporter": "python",
   "pygments_lexer": "ipython3",
   "version": "3.10.12"
  },
  "papermill": {
   "default_parameters": {},
   "duration": 910.552479,
   "end_time": "2023-11-26T03:32:21.788954",
   "environment_variables": {},
   "exception": null,
   "input_path": "__notebook__.ipynb",
   "output_path": "__notebook__.ipynb",
   "parameters": {},
   "start_time": "2023-11-26T03:17:11.236475",
   "version": "2.4.0"
  }
 },
 "nbformat": 4,
 "nbformat_minor": 5
}
